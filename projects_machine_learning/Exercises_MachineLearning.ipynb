{
 "cells": [
  {
   "cell_type": "markdown",
   "id": "b0439750",
   "metadata": {},
   "source": [
    "## EXERCISES OF MACHINE LEARNING "
   ]
  },
  {
   "cell_type": "code",
   "execution_count": 4,
   "id": "2e6b7aa2",
   "metadata": {},
   "outputs": [
    {
     "name": "stdout",
     "output_type": "stream",
     "text": [
      "Defaulting to user installation because normal site-packages is not writeable\n",
      "Requirement already satisfied: simpy in /home/juan_caste/.local/lib/python3.9/site-packages (4.0.1)\n",
      "Note: you may need to restart the kernel to use updated packages.\n"
     ]
    }
   ],
   "source": [
    "pip install simpy"
   ]
  },
  {
   "cell_type": "markdown",
   "id": "8aa1d650",
   "metadata": {},
   "source": [
    "### EXERCISE NUMBER 1 "
   ]
  },
  {
   "cell_type": "code",
   "execution_count": 9,
   "id": "2f06a6cc",
   "metadata": {},
   "outputs": [
    {
     "name": "stdout",
     "output_type": "stream",
     "text": [
      "Start Parking at 0\n",
      "Start Driving at 5\n",
      "Start Parking at 7\n",
      "Start Driving at 12\n",
      "Start Parking at 14\n"
     ]
    }
   ],
   "source": [
    "#Uso de Simpy\n",
    "def car(env):\n",
    "    while True:\n",
    "        print('Start Parking at', env.now)\n",
    "        parking_duration = 5\n",
    "        yield env.timeout(parking_duration)\n",
    "        \n",
    "        print('Start Driving at', env.now)\n",
    "        trip_duration=2\n",
    "        yield env.timeout(trip_duration)\n",
    "        \n",
    "import simpy\n",
    "env = simpy.Environment()\n",
    "env.process(car(env))\n",
    "env.run(until=15)"
   ]
  },
  {
   "cell_type": "markdown",
   "id": "6772ce14",
   "metadata": {},
   "source": [
    "### EXECIRSE NUMBER 2"
   ]
  },
  {
   "cell_type": "code",
   "execution_count": 8,
   "id": "a57544ad",
   "metadata": {
    "collapsed": true
   },
   "outputs": [
    {
     "name": "stdout",
     "output_type": "stream",
     "text": [
      "Start parking and charging at 0\n",
      "Start drivin at 5\n",
      "Start parking and charging at 7\n",
      "Start drivin at 12\n",
      "Start parking and charging at 14\n"
     ]
    }
   ],
   "source": [
    "class Car(object):\n",
    "    def __init__(self, env):\n",
    "        self.env = env\n",
    "        #Empieza el proceso de ejecución cada vez que una instancia \n",
    "        #es creada\n",
    "        self.action = env.process(self.run())\n",
    "        \n",
    "    def run(self):\n",
    "        while True:\n",
    "            print('Start parking and charging at', self.env.now)\n",
    "            charging_duration = 5\n",
    "            yield self.env.process(self.charge(charging_duration))\n",
    "                    \n",
    "            print('Start drivin at', self.env.now)\n",
    "            trip_duration = 2\n",
    "            yield self.env.timeout(trip_duration)\n",
    "                    \n",
    "    def charge(self,duration):\n",
    "        yield self.env.timeout(duration)\n",
    "            \n",
    "\n",
    "import simpy\n",
    "env = simpy.Environment()\n",
    "car = Car(env)\n",
    "env.run(until=15)\n",
    "            "
   ]
  },
  {
   "cell_type": "code",
   "execution_count": 12,
   "id": "8d905dc7",
   "metadata": {},
   "outputs": [
    {
     "name": "stdout",
     "output_type": "stream",
     "text": [
      "Start parking and charging at 0\n",
      "Was interrupted. Hope, the battery is full enough..\n",
      "Start drivin at 5\n",
      "Start parking and charging at 7\n",
      "Start drivin at 12\n",
      "Start parking and charging at 14\n"
     ]
    }
   ],
   "source": [
    "class Car(object):\n",
    "    def __init__(self, env):\n",
    "        self.env = env\n",
    "        #Empieza el proceso de ejecución cada vez que una instancia \n",
    "        #es creada\n",
    "        self.action = env.process(self.run())\n",
    "        \n",
    "    def run(self):\n",
    "        while True:\n",
    "            print('Start parking and charging at', self.env.now)\n",
    "            charging_duration = 5\n",
    "            try:\n",
    "                yield self.env.process(self.charge(charging_duration))\n",
    "            except simpy.Interrupt:\n",
    "                print('Was interrupted. Hope, the battery is full enough..')\n",
    "                    \n",
    "            print('Start drivin at', self.env.now)\n",
    "            trip_duration = 2\n",
    "            yield self.env.timeout(trip_duration)\n",
    "                    \n",
    "    def charge(self,duration):\n",
    "        yield self.env.timeout(duration)\n",
    "\n",
    "def driver(env, car):\n",
    "    yield env.timeout(5)\n",
    "    car.action.interrupt()\n",
    "            \n",
    "\n",
    "import simpy\n",
    "env = simpy.Environment()\n",
    "car = Car(env)\n",
    "env.process(driver(env,car))\n",
    "env.run(until=15)\n",
    "            "
   ]
  },
  {
   "cell_type": "markdown",
   "id": "0a32e29a",
   "metadata": {},
   "source": [
    "### EXERCISE N°3"
   ]
  },
  {
   "cell_type": "code",
   "execution_count": 21,
   "id": "a477d24b",
   "metadata": {},
   "outputs": [
    {
     "name": "stdout",
     "output_type": "stream",
     "text": [
      "Digite la cantidad de ventanillas12\n",
      "Llegada del cliente  1 :   0.09859996419050293\n",
      "Cliente siendo atendido 0.09859996419050293\n",
      "Cliente  1  sale  0.20202339134408412\n",
      "Llegada del cliente  2 :   0.39823983185586254\n",
      "Cliente siendo atendido 0.39823983185586254\n",
      "Llegada del cliente  3 :   0.444843438077346\n",
      "Cliente siendo atendido 0.444843438077346\n",
      "Cliente  3  sale  0.46206928333640696\n",
      "Cliente  2  sale  0.6805847523187323\n",
      "Llegada del cliente  4 :   1.8256152840242104\n",
      "Cliente siendo atendido 1.8256152840242104\n",
      "Llegada del cliente  5 :   1.8477324404714368\n",
      "Cliente siendo atendido 1.8477324404714368\n",
      "Llegada del cliente  6 :   1.9295779675773561\n",
      "Cliente siendo atendido 1.9295779675773561\n",
      "Llegada del cliente  7 :   1.9962406955466496\n",
      "Cliente siendo atendido 1.9962406955466496\n",
      "Cliente  5  sale  1.9979226191191768\n",
      "Cliente  7  sale  2.042656852455793\n",
      "Llegada del cliente  8 :   2.332594359069325\n",
      "Cliente siendo atendido 2.332594359069325\n",
      "Llegada del cliente  9 :   2.4036613176125803\n",
      "Cliente siendo atendido 2.4036613176125803\n",
      "Cliente  9  sale  2.4130579699053545\n",
      "Cliente  6  sale  2.4134900473937564\n",
      "Cliente  4  sale  2.4467970278221607\n",
      "Llegada del cliente  10 :   2.507013287299189\n",
      "Cliente siendo atendido 2.507013287299189\n",
      "Cliente  10  sale  2.6826860603910943\n",
      "Llegada del cliente  11 :   2.719464484977219\n",
      "Cliente siendo atendido 2.719464484977219\n",
      "Llegada del cliente  12 :   2.7868430693270554\n",
      "Cliente siendo atendido 2.7868430693270554\n",
      "Cliente  8  sale  2.7875760498148123\n",
      "Cliente  11  sale  2.9174940348527336\n",
      "Cliente  12  sale  3.0780970416315374\n",
      "Llegada del cliente  13 :   3.5230245512431777\n",
      "Cliente siendo atendido 3.5230245512431777\n",
      "Llegada del cliente  14 :   3.6938051705958075\n",
      "Cliente siendo atendido 3.6938051705958075\n",
      "Cliente  13  sale  3.942695385151223\n",
      "Llegada del cliente  15 :   4.272738576282225\n",
      "Cliente siendo atendido 4.272738576282225\n",
      "Llegada del cliente  16 :   4.632527649348097\n",
      "Cliente siendo atendido 4.632527649348097\n",
      "Cliente  16  sale  4.710050942782046\n",
      "Cliente  14  sale  4.716364053723742\n",
      "Llegada del cliente  17 :   4.719431645132541\n",
      "Cliente siendo atendido 4.719431645132541\n",
      "Llegada del cliente  18 :   4.747589622283016\n",
      "Cliente siendo atendido 4.747589622283016\n",
      "Cliente  18  sale  4.792301404259514\n",
      "Llegada del cliente  19 :   4.870450882963952\n",
      "Cliente siendo atendido 4.870450882963952\n",
      "Cliente  15  sale  4.875911473145566\n",
      "Cliente  17  sale  5.094558101886871\n",
      "Llegada del cliente  20 :   5.1785151751517375\n",
      "Cliente siendo atendido 5.1785151751517375\n",
      "Cliente  19  sale  5.2387120797623075\n",
      "Llegada del cliente  21 :   5.34447350005187\n",
      "Cliente siendo atendido 5.34447350005187\n",
      "Llegada del cliente  22 :   5.421635963014487\n",
      "Cliente siendo atendido 5.421635963014487\n",
      "Cliente  21  sale  5.5281742213122165\n",
      "Cliente  22  sale  5.791482225918689\n",
      "Cliente  20  sale  5.906082132808929\n",
      "Llegada del cliente  23 :   6.2402125061844576\n",
      "Cliente siendo atendido 6.2402125061844576\n",
      "Cliente  23  sale  6.4689152856232415\n",
      "Llegada del cliente  24 :   6.472755018647828\n",
      "Cliente siendo atendido 6.472755018647828\n",
      "Llegada del cliente  25 :   6.622439469950077\n",
      "Cliente siendo atendido 6.622439469950077\n",
      "Llegada del cliente  26 :   6.740356904197221\n",
      "Cliente siendo atendido 6.740356904197221\n",
      "Cliente  24  sale  6.772711209987111\n",
      "Cliente  25  sale  6.858265143225431\n",
      "Cliente  26  sale  6.928006979469278\n",
      "Llegada del cliente  27 :   7.164655269225157\n",
      "Cliente siendo atendido 7.164655269225157\n",
      "Cliente  27  sale  7.31421003079448\n",
      "Llegada del cliente  28 :   7.4607609486748085\n",
      "Cliente siendo atendido 7.4607609486748085\n",
      "Cliente  28  sale  7.559435177857508\n",
      "Llegada del cliente  29 :   8.240107383258483\n",
      "Cliente siendo atendido 8.240107383258483\n",
      "Cliente  29  sale  8.561899677342232\n",
      "Llegada del cliente  30 :   8.988720631358431\n",
      "Cliente siendo atendido 8.988720631358431\n",
      "Llegada del cliente  31 :   9.563787828765939\n",
      "Cliente siendo atendido 9.563787828765939\n",
      "Cliente  31  sale  9.688729865957662\n"
     ]
    },
    {
     "data": {
      "image/png": "[encoded data removed]",
      "text/plain": [
       "<Figure size 432x288 with 1 Axes>"
      ]
     },
     "metadata": {
      "needs_background": "light"
     },
     "output_type": "display_data"
    }
   ],
   "source": [
    "global contador \n",
    "#Ejemplo comprar tiquete para concierto\n",
    "tiempo_espera=[]\n",
    "def llegadas():\n",
    "    #tres clientes por minuto\n",
    "    return np.random.exponential(1/3)\n",
    "\n",
    "def servicio():\n",
    "    return np.random.exponential(1/4)\n",
    "\n",
    "def concierto(env):\n",
    "    contador = 0\n",
    "    while True:\n",
    "        yield env.timeout(llegadas())\n",
    "        contador += 1\n",
    "        env.process(cliente(env,contador,ventanillas))        \n",
    "\n",
    "def cliente(env,num,ventanillas):\n",
    "    with ventanillas.request() as solicitud:\n",
    "        t_llegada = env.now\n",
    "        print('Llegada del cliente ',num,':  ' ,env.now)\n",
    "        yield solicitud\n",
    "        print('Cliente siendo atendido', env.now)\n",
    "        yield env.timeout(servicio())\n",
    "        print('Cliente ',num, ' sale ',env.now)\n",
    "        t_salida=env.now\n",
    "        tiempoEspera.append(t_salida-t_llegada)\n",
    "    \n",
    "#Programa principal\n",
    "import simpy\n",
    "import numpy as np\n",
    "env=simpy.Environment()\n",
    "cant = int(input(\"Digite la cantidad de ventanillas\"))\n",
    "ventanillas=simpy.Resource(env,capacity=cant)\n",
    "env.process(concierto(env))\n",
    "env.run(until=10)\n",
    "\n",
    "import matplotlib.pyplot as plptl\n",
    "plptl.hist(tiempoEspera)\n",
    "plptl.xlabel('Tiempo de espera [min]')\n",
    "plptl.ylabel('Número de clientes')\n",
    "plptl.show()"
   ]
  },
  {
   "cell_type": "markdown",
   "id": "fed7f8bf",
   "metadata": {},
   "source": [
    "### EXERCISE N°4\n"
   ]
  }
 ],
 "metadata": {
  "kernelspec": {
   "display_name": "Python 3 (ipykernel)",
   "language": "python",
   "name": "python3"
  },
  "language_info": {
   "codemirror_mode": {
    "name": "ipython",
    "version": 3
   },
   "file_extension": ".py",
   "mimetype": "text/x-python",
   "name": "python",
   "nbconvert_exporter": "python",
   "pygments_lexer": "ipython3",
   "version": "3.9.6"
  }
 },
 "nbformat": 4,
 "nbformat_minor": 5
}
