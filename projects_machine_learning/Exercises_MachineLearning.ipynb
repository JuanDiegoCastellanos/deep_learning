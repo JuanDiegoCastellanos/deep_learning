{
 "cells": [
  {
   "cell_type": "markdown",
   "id": "b0439750",
   "metadata": {},
   "source": [
    "## EXERCISES OF MACHINE LEARNING "
   ]
  },
  {
   "cell_type": "code",
   "execution_count": null,
   "id": "2e6b7aa2",
   "metadata": {},
   "outputs": [],
   "source": [
    "pip install "
   ]
  }
 ],
 "metadata": {
  "kernelspec": {
   "display_name": "Python 3 (ipykernel)",
   "language": "python",
   "name": "python3"
  },
  "language_info": {
   "codemirror_mode": {
    "name": "ipython",
    "version": 3
   },
   "file_extension": ".py",
   "mimetype": "text/x-python",
   "name": "python",
   "nbconvert_exporter": "python",
   "pygments_lexer": "ipython3",
   "version": "3.9.6"
  }
 },
 "nbformat": 4,
 "nbformat_minor": 5
}
