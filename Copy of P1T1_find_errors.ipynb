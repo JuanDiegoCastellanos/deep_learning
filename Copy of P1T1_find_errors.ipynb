{
 "cells": [
  {
   "cell_type": "markdown",
   "source": [
    "#Buscando errores en el código fuente:"
   ],
   "metadata": {
    "id": "mnJwBmgUx4K7"
   }
  },
  {
   "cell_type": "markdown",
   "source": [
    "##P1T3_A:\n"
   ],
   "metadata": {
    "id": "W3QOGeCoyQfx"
   }
  },
  {
   "cell_type": "code",
   "execution_count": null,
   "source": [
    "def f_aplica_iva(bruto, iva = 19): return bruto * iva\n",
    "print(f_aplica_iva(int(input('Cual es el valor bruto del producto: '))))"
   ],
   "outputs": [
    {
     "output_type": "stream",
     "name": "stdout",
     "text": [
      "Cual es el valor bruto del producto: 45\n",
      "855\n"
     ]
    }
   ],
   "metadata": {
    "colab": {
     "base_uri": "https://localhost:8080/"
    },
    "executionInfo": {
     "elapsed": 2334,
     "status": "ok",
     "timestamp": 1628660650188,
     "user": {
      "displayName": "",
      "photoUrl": "",
      "userId": ""
     },
     "user_tz": 300
    },
    "id": "z1gpQOFYw12k",
    "outputId": "4e39631b-72bb-4580-ecb7-687117613965"
   }
  },
  {
   "cell_type": "markdown",
   "source": [
    "### Respuesta: \n",
    "- El tipo de dato solicitado es string, hace falta una conversión a integer para realizar operaciones aritméticas\n",
    "- El orden de llamada a la función, llama a una función que no está declarada\n",
    "- La variable iva ya está establecida por default y sin embargo es pasada por parámetro y sin ser declarada\n"
   ],
   "metadata": {
    "id": "8HpxUsNdrJ2n"
   }
  },
  {
   "cell_type": "markdown",
   "source": [
    "##P1T3_B:"
   ],
   "metadata": {
    "id": "GdyznISQORSw"
   }
  },
  {
   "cell_type": "code",
   "execution_count": null,
   "source": [
    "u = list((1, 2, 3))\n",
    "v = list((4, 5, 6))\n",
    "for i in range(len(u)):\n",
    "  u[i] *= v[i]\n",
    "print(sum(u))\n",
    "\n"
   ],
   "outputs": [
    {
     "output_type": "stream",
     "name": "stdout",
     "text": [
      "32\n"
     ]
    }
   ],
   "metadata": {
    "colab": {
     "base_uri": "https://localhost:8080/"
    },
    "executionInfo": {
     "elapsed": 203,
     "status": "ok",
     "timestamp": 1628661067685,
     "user": {
      "displayName": "",
      "photoUrl": "",
      "userId": ""
     },
     "user_tz": 300
    },
    "id": "fc9EgvM3KDHu",
    "outputId": "d9b79eee-8643-4c81-e5f8-65f311cf934f"
   }
  },
  {
   "cell_type": "markdown",
   "source": [
    "### Respuesta:\n",
    "- Las tuplas son inmutables\n",
    "- El valor del iterador sobre pasa el tamaño\n",
    "- la función sum() suma todos los valores y se requiere solo la multiplicación"
   ],
   "metadata": {
    "id": "yOBOb43ts4Xa"
   }
  },
  {
   "cell_type": "markdown",
   "source": [
    "##P1T3_C:"
   ],
   "metadata": {
    "id": "HRCR4lR4zZ6b"
   }
  },
  {
   "cell_type": "code",
   "execution_count": null,
   "source": [
    "total = 0\n",
    "for i in range(0, int(input(\"Total de números? \"))):\n",
    "  total += int(input(\"Ingrese un valor: \"+str(i)+\": \"))\n",
    "print(f\"El total de la suma es:{total} \")"
   ],
   "outputs": [
    {
     "output_type": "stream",
     "name": "stdout",
     "text": [
      "Total de números? 12\n",
      "Ingrese un valor: 0: 3\n",
      "Ingrese un valor: 1: 4\n",
      "Ingrese un valor: 2: 5\n",
      "Ingrese un valor: 3: 3\n",
      "Ingrese un valor: 4: 4\n",
      "Ingrese un valor: 5: 3\n",
      "Ingrese un valor: 6: 2\n",
      "Ingrese un valor: 7: 1\n",
      "Ingrese un valor: 8: 23\n",
      "Ingrese un valor: 9: 4\n",
      "Ingrese un valor: 10: 3\n",
      "Ingrese un valor: 11: 1\n",
      "El total de la suma es:56 \n"
     ]
    }
   ],
   "metadata": {
    "colab": {
     "base_uri": "https://localhost:8080/"
    },
    "executionInfo": {
     "elapsed": 11415,
     "status": "ok",
     "timestamp": 1628661293875,
     "user": {
      "displayName": "",
      "photoUrl": "",
      "userId": ""
     },
     "user_tz": 300
    },
    "id": "4e2UnYHBzeb3",
    "outputId": "b1b045de-c432-4cee-a1a6-6c8ab8387fa7"
   }
  },
  {
   "cell_type": "markdown",
   "source": [
    "###Respuesta:\n",
    "- Declarar variable total\n",
    "- Definir el tipo de dato que requiere range como parámetro\n",
    "- Formatear el print"
   ],
   "metadata": {
    "id": "pQJ5lTKyxz_E"
   }
  }
 ],
 "metadata": {
  "colab": {
   "collapsed_sections": [],
   "name": "Copy of P1T1_find_errors.ipynb",
   "provenance": [
    {
     "file_id": "https://github.com/luisFernandoCastellanosG/Machine_learning/blob/master/Machine_Learning_Classic/Jupyter_noteBook/P1_find_errors_python.ipynb",
     "timestamp": 1628661440023
    }
   ],
   "toc_visible": true
  },
  "kernelspec": {
   "display_name": "Python 3 (ipykernel)",
   "language": "python",
   "name": "python3"
  },
  "language_info": {
   "codemirror_mode": {
    "name": "ipython",
    "version": 3
   },
   "file_extension": ".py",
   "mimetype": "text/x-python",
   "name": "python",
   "nbconvert_exporter": "python",
   "pygments_lexer": "ipython3",
   "version": "3.9.6"
  }
 },
 "nbformat": 4,
 "nbformat_minor": 1
}