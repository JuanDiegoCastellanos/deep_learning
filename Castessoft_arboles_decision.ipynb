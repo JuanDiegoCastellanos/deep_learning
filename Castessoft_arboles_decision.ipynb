{
 "cells": [
  {
   "cell_type": "markdown",
   "metadata": {
    "id": "a48VL5ahWoep"
   },
   "source": [
    "# Árboles de Decisión\n",
    "Para este tema, se va a realizar una clasificación mediante árboles de desición, donde dependiendo de la variedad de una flor (iris), se clasifiquen con éxito 150 muestras de estas."
   ]
  },
  {
   "cell_type": "markdown",
   "metadata": {
    "id": "ioYlN_gdX7ty"
   },
   "source": [
    "\n",
    "## Características a tener en cuenta\n",
    "1.   Ancho y Largo de los pétalos\n",
    "2.   Sépalos\n",
    "3.   Variedades de Iris:\n",
    "      - 50 iris setosa\n",
    "      - 50 iris versicolor\n",
    "      - 50 iris virginica"
   ]
  },
  {
   "cell_type": "markdown",
   "metadata": {
    "id": "agb4KsBHZAdc"
   },
   "source": [
    "## SE CARGAN LAS LIBRERÍAS.\n",
    "Aspectos a tener en cuenta se usará un **Dataset** de **Sklearn**, este dataset se puede encontar con el nombre de **_load_iris_**, es de uso libre.\n"
   ]
  },
  {
   "cell_type": "code",
   "execution_count": 2,
   "metadata": {
    "executionInfo": {
     "elapsed": 182,
     "status": "ok",
     "timestamp": 1631540968552,
     "user": {
      "displayName": "Juan Diego Castellanos Jerez",
      "photoUrl": "https://lh3.googleusercontent.com/a-/AOh14GhdcPpRK2rz8gRmId623XRK6PZ3Zsnk5iij0-DdSg=s64",
      "userId": "01166675407416038771"
     },
     "user_tz": 300
    },
    "id": "cGadTxrwUJ_L"
   },
   "outputs": [],
   "source": [
    "import numpy as np\n",
    "import pandas as pd\n",
    "\n",
    "from sklearn.datasets import load_iris\n",
    "from sklearn.model_selection import train_test_split\n",
    "from sklearn.tree import DecisionTreeClassifier\n",
    "import matplotlib.pyplot as plt\n"
   ]
  },
  {
   "cell_type": "code",
   "execution_count": 3,
   "metadata": {
    "colab": {
     "base_uri": "https://localhost:8080/"
    },
    "executionInfo": {
     "elapsed": 21823,
     "status": "ok",
     "timestamp": 1631540995396,
     "user": {
      "displayName": "Juan Diego Castellanos Jerez",
      "photoUrl": "https://lh3.googleusercontent.com/a-/AOh14GhdcPpRK2rz8gRmId623XRK6PZ3Zsnk5iij0-DdSg=s64",
      "userId": "01166675407416038771"
     },
     "user_tz": 300
    },
    "id": "YZJ7uRNWapdg",
    "outputId": "26ff0544-bac8-4346-928b-d93b8c1a19b4"
   },
   "outputs": [
    {
     "name": "stdout",
     "output_type": "stream",
     "text": [
      "Mounted at /content/drive\n"
     ]
    }
   ],
   "source": [
    "from google.colab import drive\n",
    "drive.mount('/content/drive')"
   ]
  },
  {
   "cell_type": "markdown",
   "metadata": {
    "id": "vg1wGQIqa_rt"
   },
   "source": [
    "## SE CARGA EL DATASET\n"
   ]
  },
  {
   "cell_type": "code",
   "execution_count": 4,
   "metadata": {
    "executionInfo": {
     "elapsed": 356,
     "status": "ok",
     "timestamp": 1631541112928,
     "user": {
      "displayName": "Juan Diego Castellanos Jerez",
      "photoUrl": "https://lh3.googleusercontent.com/a-/AOh14GhdcPpRK2rz8gRmId623XRK6PZ3Zsnk5iij0-DdSg=s64",
      "userId": "01166675407416038771"
     },
     "user_tz": 300
    },
    "id": "L85hkefha9Vh"
   },
   "outputs": [],
   "source": [
    "database_iris = load_iris()"
   ]
  },
  {
   "cell_type": "markdown",
   "metadata": {
    "id": "EzN9EI5KbO5A"
   },
   "source": [
    "## SE HARA UNA REVISIÓN Y CONOCIMIENTO DE LOS DATOS"
   ]
  },
  {
   "cell_type": "code",
   "execution_count": 5,
   "metadata": {
    "colab": {
     "base_uri": "https://localhost:8080/"
    },
    "executionInfo": {
     "elapsed": 183,
     "status": "ok",
     "timestamp": 1631541127447,
     "user": {
      "displayName": "Juan Diego Castellanos Jerez",
      "photoUrl": "https://lh3.googleusercontent.com/a-/AOh14GhdcPpRK2rz8gRmId623XRK6PZ3Zsnk5iij0-DdSg=s64",
      "userId": "01166675407416038771"
     },
     "user_tz": 300
    },
    "id": "4Wqnl2HCbVS9",
    "outputId": "bd4de895-e092-481e-e35b-6228652a5b7c"
   },
   "outputs": [
    {
     "name": "stdout",
     "output_type": "stream",
     "text": [
      ".. _iris_dataset:\n",
      "\n",
      "Iris plants dataset\n",
      "--------------------\n",
      "\n",
      "**Data Set Characteristics:**\n",
      "\n",
      "    :Number of Instances: 150 (50 in each of three classes)\n",
      "    :Number of Attributes: 4 numeric, predictive attributes and the class\n",
      "    :Attribute Information:\n",
      "        - sepal length in cm\n",
      "        - sepal width in cm\n",
      "        - petal length in cm\n",
      "        - petal width in cm\n",
      "        - class:\n",
      "                - Iris-Setosa\n",
      "                - Iris-Versicolour\n",
      "                - Iris-Virginica\n",
      "                \n",
      "    :Summary Statistics:\n",
      "\n",
      "    ============== ==== ==== ======= ===== ====================\n",
      "                    Min  Max   Mean    SD   Class Correlation\n",
      "    ============== ==== ==== ======= ===== ====================\n",
      "    sepal length:   4.3  7.9   5.84   0.83    0.7826\n",
      "    sepal width:    2.0  4.4   3.05   0.43   -0.4194\n",
      "    petal length:   1.0  6.9   3.76   1.76    0.9490  (high!)\n",
      "    petal width:    0.1  2.5   1.20   0.76    0.9565  (high!)\n",
      "    ============== ==== ==== ======= ===== ====================\n",
      "\n",
      "    :Missing Attribute Values: None\n",
      "    :Class Distribution: 33.3% for each of 3 classes.\n",
      "    :Creator: R.A. Fisher\n",
      "    :Donor: Michael Marshall (MARSHALL%PLU@io.arc.nasa.gov)\n",
      "    :Date: July, 1988\n",
      "\n",
      "The famous Iris database, first used by Sir R.A. Fisher. The dataset is taken\n",
      "from Fisher's paper. Note that it's the same as in R, but not as in the UCI\n",
      "Machine Learning Repository, which has two wrong data points.\n",
      "\n",
      "This is perhaps the best known database to be found in the\n",
      "pattern recognition literature.  Fisher's paper is a classic in the field and\n",
      "is referenced frequently to this day.  (See Duda & Hart, for example.)  The\n",
      "data set contains 3 classes of 50 instances each, where each class refers to a\n",
      "type of iris plant.  One class is linearly separable from the other 2; the\n",
      "latter are NOT linearly separable from each other.\n",
      "\n",
      ".. topic:: References\n",
      "\n",
      "   - Fisher, R.A. \"The use of multiple measurements in taxonomic problems\"\n",
      "     Annual Eugenics, 7, Part II, 179-188 (1936); also in \"Contributions to\n",
      "     Mathematical Statistics\" (John Wiley, NY, 1950).\n",
      "   - Duda, R.O., & Hart, P.E. (1973) Pattern Classification and Scene Analysis.\n",
      "     (Q327.D83) John Wiley & Sons.  ISBN 0-471-22361-1.  See page 218.\n",
      "   - Dasarathy, B.V. (1980) \"Nosing Around the Neighborhood: A New System\n",
      "     Structure and Classification Rule for Recognition in Partially Exposed\n",
      "     Environments\".  IEEE Transactions on Pattern Analysis and Machine\n",
      "     Intelligence, Vol. PAMI-2, No. 1, 67-71.\n",
      "   - Gates, G.W. (1972) \"The Reduced Nearest Neighbor Rule\".  IEEE Transactions\n",
      "     on Information Theory, May 1972, 431-433.\n",
      "   - See also: 1988 MLC Proceedings, 54-64.  Cheeseman et al\"s AUTOCLASS II\n",
      "     conceptual clustering system finds 3 classes in the data.\n",
      "   - Many, many more ...\n"
     ]
    }
   ],
   "source": [
    "print(database_iris.DESCR)\n"
   ]
  },
  {
   "cell_type": "code",
   "execution_count": 6,
   "metadata": {
    "colab": {
     "base_uri": "https://localhost:8080/"
    },
    "executionInfo": {
     "elapsed": 195,
     "status": "ok",
     "timestamp": 1631541166277,
     "user": {
      "displayName": "Juan Diego Castellanos Jerez",
      "photoUrl": "https://lh3.googleusercontent.com/a-/AOh14GhdcPpRK2rz8gRmId623XRK6PZ3Zsnk5iij0-DdSg=s64",
      "userId": "01166675407416038771"
     },
     "user_tz": 300
    },
    "id": "7VoVoqQ5bjJK",
    "outputId": "479aa41b-9ece-43c2-cfd3-776c52cc6533"
   },
   "outputs": [
    {
     "name": "stdout",
     "output_type": "stream",
     "text": [
      "['sepal length (cm)', 'sepal width (cm)', 'petal length (cm)', 'petal width (cm)']\n"
     ]
    }
   ],
   "source": [
    "print(database_iris.feature_names)"
   ]
  },
  {
   "cell_type": "code",
   "execution_count": 9,
   "metadata": {
    "colab": {
     "base_uri": "https://localhost:8080/"
    },
    "executionInfo": {
     "elapsed": 406,
     "status": "ok",
     "timestamp": 1631541203036,
     "user": {
      "displayName": "Juan Diego Castellanos Jerez",
      "photoUrl": "https://lh3.googleusercontent.com/a-/AOh14GhdcPpRK2rz8gRmId623XRK6PZ3Zsnk5iij0-DdSg=s64",
      "userId": "01166675407416038771"
     },
     "user_tz": 300
    },
    "id": "YBHu4y_ubolU",
    "outputId": "ca8c167f-2d4c-4d04-aa79-c3a2a93f9f0b"
   },
   "outputs": [
    {
     "name": "stdout",
     "output_type": "stream",
     "text": [
      "/usr/local/lib/python3.7/dist-packages/sklearn/datasets/data/iris.csv\n"
     ]
    }
   ],
   "source": [
    "print(database_iris.filename)"
   ]
  },
  {
   "cell_type": "code",
   "execution_count": 13,
   "metadata": {
    "colab": {
     "base_uri": "https://localhost:8080/"
    },
    "executionInfo": {
     "elapsed": 164,
     "status": "ok",
     "timestamp": 1631541252664,
     "user": {
      "displayName": "Juan Diego Castellanos Jerez",
      "photoUrl": "https://lh3.googleusercontent.com/a-/AOh14GhdcPpRK2rz8gRmId623XRK6PZ3Zsnk5iij0-DdSg=s64",
      "userId": "01166675407416038771"
     },
     "user_tz": 300
    },
    "id": "dPctcSD4byU8",
    "outputId": "90900a64-2947-42eb-9373-db92dfc9126b"
   },
   "outputs": [
    {
     "name": "stdout",
     "output_type": "stream",
     "text": [
      "['setosa' 'versicolor' 'virginica']\n"
     ]
    }
   ],
   "source": [
    "print(database_iris.target_names)"
   ]
  },
  {
   "cell_type": "code",
   "execution_count": 14,
   "metadata": {
    "colab": {
     "base_uri": "https://localhost:8080/"
    },
    "executionInfo": {
     "elapsed": 189,
     "status": "ok",
     "timestamp": 1631541341723,
     "user": {
      "displayName": "Juan Diego Castellanos Jerez",
      "photoUrl": "https://lh3.googleusercontent.com/a-/AOh14GhdcPpRK2rz8gRmId623XRK6PZ3Zsnk5iij0-DdSg=s64",
      "userId": "01166675407416038771"
     },
     "user_tz": 300
    },
    "id": "YLDjH9Ixb9mw",
    "outputId": "e944bcb0-aa3a-4097-d28a-b311a27a45df"
   },
   "outputs": [
    {
     "name": "stdout",
     "output_type": "stream",
     "text": [
      "[0 0 0 0 0 0 0 0 0 0 0 0 0 0 0 0 0 0 0 0 0 0 0 0 0 0 0 0 0 0 0 0 0 0 0 0 0\n",
      " 0 0 0 0 0 0 0 0 0 0 0 0 0 1 1 1 1 1 1 1 1 1 1 1 1 1 1 1 1 1 1 1 1 1 1 1 1\n",
      " 1 1 1 1 1 1 1 1 1 1 1 1 1 1 1 1 1 1 1 1 1 1 1 1 1 1 2 2 2 2 2 2 2 2 2 2 2\n",
      " 2 2 2 2 2 2 2 2 2 2 2 2 2 2 2 2 2 2 2 2 2 2 2 2 2 2 2 2 2 2 2 2 2 2 2 2 2\n",
      " 2 2]\n"
     ]
    }
   ],
   "source": [
    "print(database_iris.target)\n",
    "# TENER EN CUENTA QUE SON 3 TARGETS u OBJETIVOS DE CLASIFICACIÓN, entonces \n",
    "# Veremos como están transformados esos Strings Valores Númericos "
   ]
  },
  {
   "cell_type": "markdown",
   "metadata": {
    "id": "17wZYGhtcVv4"
   },
   "source": [
    "## TRANSFORMACIÓN DEL DATASET EN UN DATAFRAME\n",
    "Esto con la finalidad de lograr una visualización mejorada de los datos"
   ]
  },
  {
   "cell_type": "code",
   "execution_count": 16,
   "metadata": {
    "colab": {
     "base_uri": "https://localhost:8080/",
     "height": 662
    },
    "executionInfo": {
     "elapsed": 195,
     "status": "ok",
     "timestamp": 1631541697062,
     "user": {
      "displayName": "Juan Diego Castellanos Jerez",
      "photoUrl": "https://lh3.googleusercontent.com/a-/AOh14GhdcPpRK2rz8gRmId623XRK6PZ3Zsnk5iij0-DdSg=s64",
      "userId": "01166675407416038771"
     },
     "user_tz": 300
    },
    "id": "vJ6Cp5tTdTri",
    "outputId": "b59641b7-2e47-4d2b-9e1f-d6dd5e266f49"
   },
   "outputs": [
    {
     "data": {
      "text/html": [
       "<div>\n",
       "<style scoped>\n",
       "    .dataframe tbody tr th:only-of-type {\n",
       "        vertical-align: middle;\n",
       "    }\n",
       "\n",
       "    .dataframe tbody tr th {\n",
       "        vertical-align: top;\n",
       "    }\n",
       "\n",
       "    .dataframe thead th {\n",
       "        text-align: right;\n",
       "    }\n",
       "</style>\n",
       "<table border=\"1\" class=\"dataframe\">\n",
       "  <thead>\n",
       "    <tr style=\"text-align: right;\">\n",
       "      <th></th>\n",
       "      <th>sepal length (cm)</th>\n",
       "      <th>sepal width (cm)</th>\n",
       "      <th>petal length (cm)</th>\n",
       "      <th>petal width (cm)</th>\n",
       "      <th>target</th>\n",
       "    </tr>\n",
       "  </thead>\n",
       "  <tbody>\n",
       "    <tr>\n",
       "      <th>0</th>\n",
       "      <td>5.1</td>\n",
       "      <td>3.5</td>\n",
       "      <td>1.4</td>\n",
       "      <td>0.2</td>\n",
       "      <td>0</td>\n",
       "    </tr>\n",
       "    <tr>\n",
       "      <th>1</th>\n",
       "      <td>4.9</td>\n",
       "      <td>3.0</td>\n",
       "      <td>1.4</td>\n",
       "      <td>0.2</td>\n",
       "      <td>0</td>\n",
       "    </tr>\n",
       "    <tr>\n",
       "      <th>2</th>\n",
       "      <td>4.7</td>\n",
       "      <td>3.2</td>\n",
       "      <td>1.3</td>\n",
       "      <td>0.2</td>\n",
       "      <td>0</td>\n",
       "    </tr>\n",
       "    <tr>\n",
       "      <th>3</th>\n",
       "      <td>4.6</td>\n",
       "      <td>3.1</td>\n",
       "      <td>1.5</td>\n",
       "      <td>0.2</td>\n",
       "      <td>0</td>\n",
       "    </tr>\n",
       "    <tr>\n",
       "      <th>4</th>\n",
       "      <td>5.0</td>\n",
       "      <td>3.6</td>\n",
       "      <td>1.4</td>\n",
       "      <td>0.2</td>\n",
       "      <td>0</td>\n",
       "    </tr>\n",
       "    <tr>\n",
       "      <th>5</th>\n",
       "      <td>5.4</td>\n",
       "      <td>3.9</td>\n",
       "      <td>1.7</td>\n",
       "      <td>0.4</td>\n",
       "      <td>0</td>\n",
       "    </tr>\n",
       "    <tr>\n",
       "      <th>6</th>\n",
       "      <td>4.6</td>\n",
       "      <td>3.4</td>\n",
       "      <td>1.4</td>\n",
       "      <td>0.3</td>\n",
       "      <td>0</td>\n",
       "    </tr>\n",
       "    <tr>\n",
       "      <th>7</th>\n",
       "      <td>5.0</td>\n",
       "      <td>3.4</td>\n",
       "      <td>1.5</td>\n",
       "      <td>0.2</td>\n",
       "      <td>0</td>\n",
       "    </tr>\n",
       "    <tr>\n",
       "      <th>8</th>\n",
       "      <td>4.4</td>\n",
       "      <td>2.9</td>\n",
       "      <td>1.4</td>\n",
       "      <td>0.2</td>\n",
       "      <td>0</td>\n",
       "    </tr>\n",
       "    <tr>\n",
       "      <th>9</th>\n",
       "      <td>4.9</td>\n",
       "      <td>3.1</td>\n",
       "      <td>1.5</td>\n",
       "      <td>0.1</td>\n",
       "      <td>0</td>\n",
       "    </tr>\n",
       "    <tr>\n",
       "      <th>10</th>\n",
       "      <td>5.4</td>\n",
       "      <td>3.7</td>\n",
       "      <td>1.5</td>\n",
       "      <td>0.2</td>\n",
       "      <td>0</td>\n",
       "    </tr>\n",
       "    <tr>\n",
       "      <th>11</th>\n",
       "      <td>4.8</td>\n",
       "      <td>3.4</td>\n",
       "      <td>1.6</td>\n",
       "      <td>0.2</td>\n",
       "      <td>0</td>\n",
       "    </tr>\n",
       "    <tr>\n",
       "      <th>12</th>\n",
       "      <td>4.8</td>\n",
       "      <td>3.0</td>\n",
       "      <td>1.4</td>\n",
       "      <td>0.1</td>\n",
       "      <td>0</td>\n",
       "    </tr>\n",
       "    <tr>\n",
       "      <th>13</th>\n",
       "      <td>4.3</td>\n",
       "      <td>3.0</td>\n",
       "      <td>1.1</td>\n",
       "      <td>0.1</td>\n",
       "      <td>0</td>\n",
       "    </tr>\n",
       "    <tr>\n",
       "      <th>14</th>\n",
       "      <td>5.8</td>\n",
       "      <td>4.0</td>\n",
       "      <td>1.2</td>\n",
       "      <td>0.2</td>\n",
       "      <td>0</td>\n",
       "    </tr>\n",
       "    <tr>\n",
       "      <th>15</th>\n",
       "      <td>5.7</td>\n",
       "      <td>4.4</td>\n",
       "      <td>1.5</td>\n",
       "      <td>0.4</td>\n",
       "      <td>0</td>\n",
       "    </tr>\n",
       "    <tr>\n",
       "      <th>16</th>\n",
       "      <td>5.4</td>\n",
       "      <td>3.9</td>\n",
       "      <td>1.3</td>\n",
       "      <td>0.4</td>\n",
       "      <td>0</td>\n",
       "    </tr>\n",
       "    <tr>\n",
       "      <th>17</th>\n",
       "      <td>5.1</td>\n",
       "      <td>3.5</td>\n",
       "      <td>1.4</td>\n",
       "      <td>0.3</td>\n",
       "      <td>0</td>\n",
       "    </tr>\n",
       "    <tr>\n",
       "      <th>18</th>\n",
       "      <td>5.7</td>\n",
       "      <td>3.8</td>\n",
       "      <td>1.7</td>\n",
       "      <td>0.3</td>\n",
       "      <td>0</td>\n",
       "    </tr>\n",
       "    <tr>\n",
       "      <th>19</th>\n",
       "      <td>5.1</td>\n",
       "      <td>3.8</td>\n",
       "      <td>1.5</td>\n",
       "      <td>0.3</td>\n",
       "      <td>0</td>\n",
       "    </tr>\n",
       "  </tbody>\n",
       "</table>\n",
       "</div>"
      ],
      "text/plain": [
       "    sepal length (cm)  sepal width (cm)  ...  petal width (cm)  target\n",
       "0                 5.1               3.5  ...               0.2       0\n",
       "1                 4.9               3.0  ...               0.2       0\n",
       "2                 4.7               3.2  ...               0.2       0\n",
       "3                 4.6               3.1  ...               0.2       0\n",
       "4                 5.0               3.6  ...               0.2       0\n",
       "5                 5.4               3.9  ...               0.4       0\n",
       "6                 4.6               3.4  ...               0.3       0\n",
       "7                 5.0               3.4  ...               0.2       0\n",
       "8                 4.4               2.9  ...               0.2       0\n",
       "9                 4.9               3.1  ...               0.1       0\n",
       "10                5.4               3.7  ...               0.2       0\n",
       "11                4.8               3.4  ...               0.2       0\n",
       "12                4.8               3.0  ...               0.1       0\n",
       "13                4.3               3.0  ...               0.1       0\n",
       "14                5.8               4.0  ...               0.2       0\n",
       "15                5.7               4.4  ...               0.4       0\n",
       "16                5.4               3.9  ...               0.4       0\n",
       "17                5.1               3.5  ...               0.3       0\n",
       "18                5.7               3.8  ...               0.3       0\n",
       "19                5.1               3.8  ...               0.3       0\n",
       "\n",
       "[20 rows x 5 columns]"
      ]
     },
     "execution_count": 16,
     "metadata": {},
     "output_type": "execute_result"
    }
   ],
   "source": [
    "df_iris= pd.DataFrame(database_iris.data, columns=database_iris.feature_names)\n",
    "df_iris['target'] = database_iris.target\n",
    "df_iris.head(20)"
   ]
  },
  {
   "cell_type": "markdown",
   "metadata": {
    "id": "yHki047teKDb"
   },
   "source": [
    "## SE SEPARAN LOS DATOS TEST y TRAIN "
   ]
  },
  {
   "cell_type": "code",
   "execution_count": 31,
   "metadata": {
    "executionInfo": {
     "elapsed": 170,
     "status": "ok",
     "timestamp": 1631543302595,
     "user": {
      "displayName": "Juan Diego Castellanos Jerez",
      "photoUrl": "https://lh3.googleusercontent.com/a-/AOh14GhdcPpRK2rz8gRmId623XRK6PZ3Zsnk5iij0-DdSg=s64",
      "userId": "01166675407416038771"
     },
     "user_tz": 300
    },
    "id": "Tnr9ALnvcTRe"
   },
   "outputs": [],
   "source": [
    "X_train, X_test, Y_train, Y_test = train_test_split(df_iris[database_iris.feature_names],df_iris['target'], random_state=42)"
   ]
  },
  {
   "cell_type": "markdown",
   "metadata": {
    "id": "ws_qmRoMeUfK"
   },
   "source": [
    "## SE CREA UNA INSTANCIA DEL ALGORITMO (ÁRBOL DE DESICIÓN)"
   ]
  },
  {
   "cell_type": "code",
   "execution_count": 48,
   "metadata": {
    "executionInfo": {
     "elapsed": 191,
     "status": "ok",
     "timestamp": 1631544083833,
     "user": {
      "displayName": "Juan Diego Castellanos Jerez",
      "photoUrl": "https://lh3.googleusercontent.com/a-/AOh14GhdcPpRK2rz8gRmId623XRK6PZ3Zsnk5iij0-DdSg=s64",
      "userId": "01166675407416038771"
     },
     "user_tz": 300
    },
    "id": "1xjSDPqLeacJ"
   },
   "outputs": [],
   "source": [
    "arbol_clasifi = DecisionTreeClassifier(max_depth=3, random_state=30)"
   ]
  },
  {
   "cell_type": "markdown",
   "metadata": {
    "id": "COjwA8ASjKo6"
   },
   "source": [
    "## SE ENTRENA EL ALGORITMO"
   ]
  },
  {
   "cell_type": "code",
   "execution_count": 49,
   "metadata": {
    "colab": {
     "base_uri": "https://localhost:8080/"
    },
    "executionInfo": {
     "elapsed": 9,
     "status": "ok",
     "timestamp": 1631544084825,
     "user": {
      "displayName": "Juan Diego Castellanos Jerez",
      "photoUrl": "https://lh3.googleusercontent.com/a-/AOh14GhdcPpRK2rz8gRmId623XRK6PZ3Zsnk5iij0-DdSg=s64",
      "userId": "01166675407416038771"
     },
     "user_tz": 300
    },
    "id": "p3ie6e7VjR4M",
    "outputId": "b7950ffc-c67b-4328-ac57-b2dd83b35398"
   },
   "outputs": [
    {
     "data": {
      "text/plain": [
       "DecisionTreeClassifier(ccp_alpha=0.0, class_weight=None, criterion='gini',\n",
       "                       max_depth=3, max_features=None, max_leaf_nodes=None,\n",
       "                       min_impurity_decrease=0.0, min_impurity_split=None,\n",
       "                       min_samples_leaf=1, min_samples_split=2,\n",
       "                       min_weight_fraction_leaf=0.0, presort='deprecated',\n",
       "                       random_state=30, splitter='best')"
      ]
     },
     "execution_count": 49,
     "metadata": {},
     "output_type": "execute_result"
    }
   ],
   "source": [
    "arbol_clasifi.fit(X_train,Y_train)"
   ]
  },
  {
   "cell_type": "markdown",
   "metadata": {
    "id": "p8v1E5B1i3ui"
   },
   "source": [
    "## SE PREDICEN LOS VALORES"
   ]
  },
  {
   "cell_type": "code",
   "execution_count": 50,
   "metadata": {
    "colab": {
     "base_uri": "https://localhost:8080/"
    },
    "executionInfo": {
     "elapsed": 7,
     "status": "ok",
     "timestamp": 1631544087285,
     "user": {
      "displayName": "Juan Diego Castellanos Jerez",
      "photoUrl": "https://lh3.googleusercontent.com/a-/AOh14GhdcPpRK2rz8gRmId623XRK6PZ3Zsnk5iij0-DdSg=s64",
      "userId": "01166675407416038771"
     },
     "user_tz": 300
    },
    "id": "TSB-ZRrCi7zY",
    "outputId": "68d21adc-fde6-43f9-fd86-c00cc514a252"
   },
   "outputs": [
    {
     "name": "stdout",
     "output_type": "stream",
     "text": [
      "sepal length (cm)    6.1\n",
      "sepal width (cm)     2.8\n",
      "petal length (cm)    4.7\n",
      "petal width (cm)     1.2\n",
      "Name: 73, dtype: float64\n",
      "1\n"
     ]
    },
    {
     "data": {
      "text/plain": [
       "array([1, 0, 2, 1, 1, 0, 1, 2, 1, 1, 2, 0, 0, 0, 0, 1, 2, 1, 1, 2])"
      ]
     },
     "execution_count": 50,
     "metadata": {},
     "output_type": "execute_result"
    }
   ],
   "source": [
    "# Predición para un registro\n",
    "#tomamos la información del primer registro (X_test)\n",
    "print(X_test.iloc[0])\n",
    "# el verdadero resultado de la flor\n",
    "print(Y_test.iloc[0])\n",
    "#le pasamos esos datos al algoritmo\n",
    "arbol_clasifi.predict(X_test.iloc[0].values.reshape(1, -1))\n",
    "\n",
    "arbol_clasifi.predict(X_test[0:20])"
   ]
  },
  {
   "cell_type": "markdown",
   "metadata": {
    "id": "gNjJKLenjZFi"
   },
   "source": [
    "## SE CALCULA LA EXACTITUD DEL MODELO"
   ]
  },
  {
   "cell_type": "code",
   "execution_count": 51,
   "metadata": {
    "colab": {
     "base_uri": "https://localhost:8080/"
    },
    "executionInfo": {
     "elapsed": 172,
     "status": "ok",
     "timestamp": 1631544092234,
     "user": {
      "displayName": "Juan Diego Castellanos Jerez",
      "photoUrl": "https://lh3.googleusercontent.com/a-/AOh14GhdcPpRK2rz8gRmId623XRK6PZ3Zsnk5iij0-DdSg=s64",
      "userId": "01166675407416038771"
     },
     "user_tz": 300
    },
    "id": "c3MgZ7NBjdbz",
    "outputId": "c9ca46cc-b6a2-4f32-e6b2-c21678fbb03e"
   },
   "outputs": [
    {
     "name": "stdout",
     "output_type": "stream",
     "text": [
      "1.0\n"
     ]
    }
   ],
   "source": [
    "accuary = arbol_clasifi.score(X_test, Y_test)\n",
    "print(accuary)"
   ]
  },
  {
   "cell_type": "markdown",
   "metadata": {
    "id": "Ml1xQnDqj2ss"
   },
   "source": [
    "## SE GRAFICA EL ÁRBOL \n"
   ]
  },
  {
   "cell_type": "code",
   "execution_count": 52,
   "metadata": {
    "colab": {
     "base_uri": "https://localhost:8080/"
    },
    "executionInfo": {
     "elapsed": 185,
     "status": "ok",
     "timestamp": 1631544095881,
     "user": {
      "displayName": "Juan Diego Castellanos Jerez",
      "photoUrl": "https://lh3.googleusercontent.com/a-/AOh14GhdcPpRK2rz8gRmId623XRK6PZ3Zsnk5iij0-DdSg=s64",
      "userId": "01166675407416038771"
     },
     "user_tz": 300
    },
    "id": "LqRKzNcFj5nO",
    "outputId": "a46c2270-7c41-470f-e540-8873a6d84576"
   },
   "outputs": [
    {
     "data": {
      "text/plain": [
       "True"
      ]
     },
     "execution_count": 52,
     "metadata": {},
     "output_type": "execute_result"
    }
   ],
   "source": [
    "class_names_list = list(['setosa','versicolor','virginica'])\n",
    "from sklearn.tree import export_graphviz\n",
    "from pydotplus import graph_from_dot_data\n",
    "dot_data = export_graphviz(arbol_clasifi, feature_names= database_iris.feature_names, class_names=class_names_list)\n",
    "graph = graph_from_dot_data(dot_data)\n",
    "graph.write_png('tree.png')"
   ]
  },
  {
   "cell_type": "markdown",
   "metadata": {
    "id": "O-gTvvkClcsV"
   },
   "source": [
    "## CONOCIENDO LAS CARACTERÍSTICAS MÁS IMPORTANTES"
   ]
  },
  {
   "cell_type": "code",
   "execution_count": 53,
   "metadata": {
    "colab": {
     "base_uri": "https://localhost:8080/"
    },
    "executionInfo": {
     "elapsed": 7,
     "status": "ok",
     "timestamp": 1631544097151,
     "user": {
      "displayName": "Juan Diego Castellanos Jerez",
      "photoUrl": "https://lh3.googleusercontent.com/a-/AOh14GhdcPpRK2rz8gRmId623XRK6PZ3Zsnk5iij0-DdSg=s64",
      "userId": "01166675407416038771"
     },
     "user_tz": 300
    },
    "id": "sBUJh4odljnx",
    "outputId": "217c6034-2f6b-45a5-e2ed-2ec5eca52cda"
   },
   "outputs": [
    {
     "name": "stdout",
     "output_type": "stream",
     "text": [
      "             feature  importance\n",
      "0  sepal length (cm)       0.000\n",
      "1   sepal width (cm)       0.000\n",
      "2  petal length (cm)       0.404\n",
      "3   petal width (cm)       0.596\n"
     ]
    }
   ],
   "source": [
    "importances = pd.DataFrame({'feature':X_train.columns, 'importance':np.round(arbol_clasifi.feature_importances_,3)})\n",
    "print(importances)"
   ]
  },
  {
   "cell_type": "code",
   "execution_count": 54,
   "metadata": {
    "colab": {
     "base_uri": "https://localhost:8080/",
     "height": 171
    },
    "executionInfo": {
     "elapsed": 9,
     "status": "ok",
     "timestamp": 1631544098257,
     "user": {
      "displayName": "Juan Diego Castellanos Jerez",
      "photoUrl": "https://lh3.googleusercontent.com/a-/AOh14GhdcPpRK2rz8gRmId623XRK6PZ3Zsnk5iij0-DdSg=s64",
      "userId": "01166675407416038771"
     },
     "user_tz": 300
    },
    "id": "kh0sSfQFlzvF",
    "outputId": "f8fd4d82-3a43-41f3-b9c3-f7a1bd1a52f0"
   },
   "outputs": [
    {
     "data": {
      "text/html": [
       "<div>\n",
       "<style scoped>\n",
       "    .dataframe tbody tr th:only-of-type {\n",
       "        vertical-align: middle;\n",
       "    }\n",
       "\n",
       "    .dataframe tbody tr th {\n",
       "        vertical-align: top;\n",
       "    }\n",
       "\n",
       "    .dataframe thead th {\n",
       "        text-align: right;\n",
       "    }\n",
       "</style>\n",
       "<table border=\"1\" class=\"dataframe\">\n",
       "  <thead>\n",
       "    <tr style=\"text-align: right;\">\n",
       "      <th></th>\n",
       "      <th>feature</th>\n",
       "      <th>importance</th>\n",
       "    </tr>\n",
       "  </thead>\n",
       "  <tbody>\n",
       "    <tr>\n",
       "      <th>3</th>\n",
       "      <td>petal width (cm)</td>\n",
       "      <td>0.596</td>\n",
       "    </tr>\n",
       "    <tr>\n",
       "      <th>2</th>\n",
       "      <td>petal length (cm)</td>\n",
       "      <td>0.404</td>\n",
       "    </tr>\n",
       "    <tr>\n",
       "      <th>0</th>\n",
       "      <td>sepal length (cm)</td>\n",
       "      <td>0.000</td>\n",
       "    </tr>\n",
       "    <tr>\n",
       "      <th>1</th>\n",
       "      <td>sepal width (cm)</td>\n",
       "      <td>0.000</td>\n",
       "    </tr>\n",
       "  </tbody>\n",
       "</table>\n",
       "</div>"
      ],
      "text/plain": [
       "             feature  importance\n",
       "3   petal width (cm)       0.596\n",
       "2  petal length (cm)       0.404\n",
       "0  sepal length (cm)       0.000\n",
       "1   sepal width (cm)       0.000"
      ]
     },
     "execution_count": 54,
     "metadata": {},
     "output_type": "execute_result"
    }
   ],
   "source": [
    "importances = importances.sort_values('importance', ascending=False)\n",
    "importances.head(10)"
   ]
  },
  {
   "cell_type": "markdown",
   "metadata": {
    "id": "JkUpMeR4mXUE"
   },
   "source": [
    "## MEJORANDO EL ÁRBOL DE DESICIÓN"
   ]
  },
  {
   "cell_type": "code",
   "execution_count": 55,
   "metadata": {
    "executionInfo": {
     "elapsed": 288,
     "status": "ok",
     "timestamp": 1631544100215,
     "user": {
      "displayName": "Juan Diego Castellanos Jerez",
      "photoUrl": "https://lh3.googleusercontent.com/a-/AOh14GhdcPpRK2rz8gRmId623XRK6PZ3Zsnk5iij0-DdSg=s64",
      "userId": "01166675407416038771"
     },
     "user_tz": 300
    },
    "id": "RAIYdmr1ma4R"
   },
   "outputs": [],
   "source": [
    "#la profundad de un árbol la medimos con max_depth\n",
    "# creamos una lista con profundidades de 1 a 6 \n",
    "max_depth_lista = list(range(1, 6))\n",
    "# creamos un listado de resultados de exactitud \n",
    "accuracy = []\n",
    "for depth in max_depth_lista:\n",
    "    \n",
    "    arbol_clasifi = DecisionTreeClassifier(max_depth = depth, random_state = 0)\n",
    "    arbol_clasifi.fit(X_train, Y_train)\n",
    "    score = arbol_clasifi.score(X_test, Y_test)\n",
    "    accuracy.append(score)"
   ]
  },
  {
   "cell_type": "markdown",
   "metadata": {
    "id": "hS3ptKmYmjRL"
   },
   "source": [
    "### Se gráfica para ver resultados de mejor manera"
   ]
  },
  {
   "cell_type": "code",
   "execution_count": 56,
   "metadata": {
    "colab": {
     "base_uri": "https://localhost:8080/",
     "height": 278
    },
    "executionInfo": {
     "elapsed": 788,
     "status": "ok",
     "timestamp": 1631544102464,
     "user": {
      "displayName": "Juan Diego Castellanos Jerez",
      "photoUrl": "https://lh3.googleusercontent.com/a-/AOh14GhdcPpRK2rz8gRmId623XRK6PZ3Zsnk5iij0-DdSg=s64",
      "userId": "01166675407416038771"
     },
     "user_tz": 300
    },
    "id": "41wl9Hs7mqto",
    "outputId": "2f8cd7e2-751e-40f7-f386-059a726a27f6"
   },
   "outputs": [
    {
     "data": {
      "image/png": "[encoded data removed]",
      "text/plain": [
       "<Figure size 432x288 with 1 Axes>"
      ]
     },
     "metadata": {
      "needs_background": "light"
     },
     "output_type": "display_data"
    }
   ],
   "source": [
    "plt.plot(max_depth_lista,accuracy)\n",
    "plt.ylabel('accuracy')\n",
    "plt.xlabel('depth')\n",
    "plt.grid(True)\n",
    "plt.show()"
   ]
  }
 ],
 "metadata": {
  "colab": {
   "authorship_tag": "ABX9TyPc3t8WnwNPS0gYEiIyDe9R",
   "collapsed_sections": [],
   "name": "Arboles.ipynb",
   "provenance": []
  },
  "kernelspec": {
   "display_name": "Python 3 (ipykernel)",
   "language": "python",
   "name": "python3"
  },
  "language_info": {
   "codemirror_mode": {
    "name": "ipython",
    "version": 3
   },
   "file_extension": ".py",
   "mimetype": "text/x-python",
   "name": "python",
   "nbconvert_exporter": "python",
   "pygments_lexer": "ipython3",
   "version": "3.9.7"
  }
 },
 "nbformat": 4,
 "nbformat_minor": 1
}
