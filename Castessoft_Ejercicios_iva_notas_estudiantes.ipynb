{
 "cells": [
  {
   "cell_type": "markdown",
   "metadata": {
    "id": "v1Z4y-IAguLk"
   },
   "source": [
    "#**IVA DE UN PRODUCTO**\n"
   ]
  },
  {
   "cell_type": "markdown",
   "metadata": {
    "id": "Xc7_YnabjIMU"
   },
   "source": [
    "##**Programa que solicite el precio de 5 productos.**\n",
    "- Para cada producto genera el iva del 19%\n",
    "- Genera el valor base de  todos los productos\n",
    "- Genera el valor total del IVA\n",
    "- Genera el valor total de la factura (IVA+valor base)"
   ]
  },
  {
   "cell_type": "code",
   "execution_count": 5,
   "metadata": {
    "colab": {
     "base_uri": "https://localhost:8080/"
    },
    "executionInfo": {
     "elapsed": 14225,
     "status": "ok",
     "timestamp": 1628657888629,
     "user": {
      "displayName": "Juan Diego Castellanos Jerez",
      "photoUrl": "https://lh3.googleusercontent.com/a-/AOh14GhdcPpRK2rz8gRmId623XRK6PZ3Zsnk5iij0-DdSg=s64",
      "userId": "01166675407416038771"
     },
     "user_tz": 300
    },
    "id": "wCBom66Sg1RU",
    "outputId": "dc459966-6f41-4912-87a4-f8fad7e2df7a"
   },
   "outputs": [
    {
     "name": "stdout",
     "output_type": "stream",
     "text": [
      "\n",
      "Digite el numero 0 -->123\n",
      "\n",
      "Valor base ----- 123  \n",
      "IVA 19% -------- 23.37  \n",
      "valor  IVA --------- 146.37  \n",
      "valor total ------- 146.37\n",
      "\n",
      "Digite el numero 1 -->433\n",
      "\n",
      "Valor base ----- 433  \n",
      "IVA 19% -------- 82.27  \n",
      "valor  IVA --------- 515.27  \n",
      "valor total ------- 638.27\n",
      "\n",
      "Digite el numero 2 -->22\n",
      "\n",
      "Valor base ----- 22  \n",
      "IVA 19% -------- 4.18  \n",
      "valor  IVA --------- 26.18  \n",
      "valor total ------- 582.18\n",
      "\n",
      "Digite el numero 3 -->43\n",
      "\n",
      "Valor base ----- 43  \n",
      "IVA 19% -------- 8.17  \n",
      "valor  IVA --------- 51.17  \n",
      "valor total ------- 629.17\n",
      "\n",
      "Digite el numero 4 -->33\n",
      "\n",
      "Valor base ----- 33  \n",
      "IVA 19% -------- 6.2700000000000005  \n",
      "valor  IVA --------- 39.27  \n",
      "valor total ------- 660.27\n",
      "\n",
      "valor total de factura ------- 660.27\n"
     ]
    }
   ],
   "source": [
    "total = 0\n",
    "for x in range(5): \n",
    "  prod = int(input(f\"\\nDigite el numero {x} -->\"))\n",
    "  total += prod\n",
    "  iva = prod*0.19\n",
    "  print(f\"\\nValor base ----- {prod}  \\nIVA 19% -------- {iva}  \\nvalor \" + \n",
    "  f\" IVA --------- {prod + iva}  \\nvalor total ------- {total + iva}\")\n",
    "print(f\"\\nvalor total de factura ------- {total + iva}\")"
   ]
  },
  {
   "cell_type": "markdown",
   "metadata": {
    "id": "A_gOgDYRmI4R"
   },
   "source": [
    "*Desarrollado por* _**Juan Diego Castellanos Jerez**_   \n",
    "Revisa mis Repositorios en --> [GitHub](https://github.com/JuanDiegoCastellanos)!!\n",
    "Mira mi perfil si te interesa trabajar conmigo --> [Linkedin](https://www.linkedin.com/in/juan-diego-castellanos-jerez-944267212/) \n"
   ]
  },
  {
   "cell_type": "markdown",
   "metadata": {
    "id": "m40TVLk_k2Rt"
   },
   "source": [
    "#**NOTAS DE ESTUDIANTES**\n"
   ]
  },
  {
   "cell_type": "markdown",
   "metadata": {
    "id": "pf5iM7-8lCNX"
   },
   "source": [
    "##**Programa que genera de forma aleatoria las nota  entre (0.0 y 0.5) de** **40 estudiantes** **de una asignatura con esa información calcular lo siguiente**:\n",
    "\n",
    "- Cantidad estudiantes repobrados (nota inferior a 2.9)\n",
    "- Cantidad estudiantes aprobados\n",
    "- Nota promedio.\n",
    "\n"
   ]
  },
  {
   "cell_type": "code",
   "execution_count": 6,
   "metadata": {
    "colab": {
     "base_uri": "https://localhost:8080/"
    },
    "executionInfo": {
     "elapsed": 343,
     "status": "ok",
     "timestamp": 1628659405189,
     "user": {
      "displayName": "Juan Diego Castellanos Jerez",
      "photoUrl": "https://lh3.googleusercontent.com/a-/AOh14GhdcPpRK2rz8gRmId623XRK6PZ3Zsnk5iij0-DdSg=s64",
      "userId": "01166675407416038771"
     },
     "user_tz": 300
    },
    "id": "_TrjjgX5nfA-",
    "outputId": "bccb821f-8b04-4217-fcdb-4ac09eda2fbc"
   },
   "outputs": [
    {
     "name": "stdout",
     "output_type": "stream",
     "text": [
      "La cantidad de estudiantes reprobados son: 24\n",
      "La cantidad de estudiantes aprobados son: 16\n",
      "La nota promedio es de :2.370269701793307\n"
     ]
    }
   ],
   "source": [
    "import numpy as np\n",
    "notas=[np.random.uniform(0.0,5.0) for x in range(40)]\n",
    "estudiantes=[ nota for nota in notas if nota<= 2.9]\n",
    "print(f\"La cantidad de estudiantes reprobados son: {str(len(estudiantes))}\")\n",
    "estudiantes=[ nota for nota in notas if nota> 2.9]\n",
    "print(f\"La cantidad de estudiantes aprobados son: {str(len(estudiantes))}\"\n",
    " f\"\\nLa nota promedio es de :{(np.sum(notas))/len(notas)}\")"
   ]
  },
  {
   "cell_type": "markdown",
   "metadata": {
    "id": "IUDfpqIRqpeB"
   },
   "source": [
    "*Desarrollado por* _**Juan Diego Castellanos Jerez**_   \n",
    "Revisa mis Repositorios en --> [GitHub](https://github.com/JuanDiegoCastellanos)!!\n",
    "Mira mi perfil si te interesa trabajar conmigo --> [Linkedin](https://www.linkedin.com/in/juan-diego-castellanos-jerez-944267212/) "
   ]
  },
  {
   "cell_type": "markdown",
   "metadata": {
    "id": "LT_8TThlqqgd"
   },
   "source": []
  }
 ],
 "metadata": {
  "colab": {
   "authorship_tag": "ABX9TyPhiPHmcGb+cL2uBJNWXNKd",
   "collapsed_sections": [],
   "name": "Project 001.ipynb",
   "provenance": [],
   "toc_visible": true
  },
  "kernelspec": {
   "display_name": "Python 3 (ipykernel)",
   "language": "python",
   "name": "python3"
  },
  "language_info": {
   "codemirror_mode": {
    "name": "ipython",
    "version": 3
   },
   "file_extension": ".py",
   "mimetype": "text/x-python",
   "name": "python",
   "nbconvert_exporter": "python",
   "pygments_lexer": "ipython3",
   "version": "3.9.7"
  }
 },
 "nbformat": 4,
 "nbformat_minor": 1
}
