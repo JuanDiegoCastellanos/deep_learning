{
  "nbformat": 4,
  "nbformat_minor": 0,
  "metadata": {
    "colab": {
      "name": "Castessoft_Exercise04_DataSet_MercadeoBancario.ipynb",
      "provenance": [],
      "collapsed_sections": []
    },
    "kernelspec": {
      "name": "python3",
      "display_name": "Python 3"
    },
    "language_info": {
      "name": "python"
    }
  },
  "cells": [
    {
      "cell_type": "code",
      "metadata": {
        "colab": {
          "base_uri": "https://localhost:8080/"
        },
        "id": "masytR6_GZET",
        "outputId": "611fd3d2-bf26-423f-f3e0-a2c6b044dbfb"
      },
      "source": [
        "from google.colab import drive\n",
        "drive.mount('/content/drive')"
      ],
      "execution_count": 1,
      "outputs": [
        {
          "output_type": "stream",
          "name": "stdout",
          "text": [
            "Mounted at /content/drive\n"
          ]
        }
      ]
    },
    {
      "cell_type": "markdown",
      "metadata": {
        "id": "YSc8bETnG8eg"
      },
      "source": [
        "# EJERCICIO CON DATA SET DE MERCADEO BANCARIO\n"
      ]
    },
    {
      "cell_type": "markdown",
      "metadata": {
        "id": "w6XQ1DFvHB6g"
      },
      "source": [
        "## Importar librerias"
      ]
    },
    {
      "cell_type": "code",
      "metadata": {
        "id": "MJtpWvvwG7wK"
      },
      "source": [
        "import pandas as pd\n",
        "import numpy as np\n",
        "\n",
        "import seaborn as sns\n",
        "import matplotlib.pyplot as plt\n",
        "from sklearn import metrics \n",
        "from sklearn.linear_model import LogisticRegression\n",
        "from sklearn.model_selection import train_test_split\n",
        "from sklearn.preprocessing import  StandardScaler\n",
        "import sklearn.metrics as metrics"
      ],
      "execution_count": 3,
      "outputs": []
    },
    {
      "cell_type": "markdown",
      "metadata": {
        "id": "Yhl_9781I8fZ"
      },
      "source": [
        "## Importar Data Set"
      ]
    },
    {
      "cell_type": "code",
      "metadata": {
        "colab": {
          "base_uri": "https://localhost:8080/",
          "height": 383
        },
        "id": "K4aovMVrI-wh",
        "outputId": "6a2e3bfd-eb60-414a-c712-a0d7ae416624"
      },
      "source": [
        "df =pd.DataFrame()\n",
        "df = pd.read_csv(\"https://raw.githubusercontent.com/luisFernandoCastellanosG/Machine_learning/master/Machine_Learning_Classic/Databasets/mercadeo_bancario.csv\")\n",
        "df.head(10)"
      ],
      "execution_count": 4,
      "outputs": [
        {
          "output_type": "execute_result",
          "data": {
            "text/html": [
              "<div>\n",
              "<style scoped>\n",
              "    .dataframe tbody tr th:only-of-type {\n",
              "        vertical-align: middle;\n",
              "    }\n",
              "\n",
              "    .dataframe tbody tr th {\n",
              "        vertical-align: top;\n",
              "    }\n",
              "\n",
              "    .dataframe thead th {\n",
              "        text-align: right;\n",
              "    }\n",
              "</style>\n",
              "<table border=\"1\" class=\"dataframe\">\n",
              "  <thead>\n",
              "    <tr style=\"text-align: right;\">\n",
              "      <th></th>\n",
              "      <th>edad</th>\n",
              "      <th>trabajo</th>\n",
              "      <th>estado_civil</th>\n",
              "      <th>educacion</th>\n",
              "      <th>total_hijos</th>\n",
              "      <th>credito_sin_pago</th>\n",
              "      <th>prestamo_vivienda</th>\n",
              "      <th>prestamo_personal</th>\n",
              "      <th>valor_prestamo</th>\n",
              "      <th>dias_ultimo_pago</th>\n",
              "      <th>tarjetas_credito</th>\n",
              "      <th>contacto</th>\n",
              "      <th>mes</th>\n",
              "      <th>dia_semana</th>\n",
              "      <th>duracion_ultimo_contacto</th>\n",
              "      <th>dias_ultimo_contacto</th>\n",
              "      <th>anterior_contacto</th>\n",
              "      <th>numero_empleados</th>\n",
              "      <th>si_no</th>\n",
              "    </tr>\n",
              "  </thead>\n",
              "  <tbody>\n",
              "    <tr>\n",
              "      <th>0</th>\n",
              "      <td>44</td>\n",
              "      <td>blue-collar</td>\n",
              "      <td>married</td>\n",
              "      <td>preschool</td>\n",
              "      <td>7</td>\n",
              "      <td>unknown</td>\n",
              "      <td>yes</td>\n",
              "      <td>no</td>\n",
              "      <td>268017</td>\n",
              "      <td>0</td>\n",
              "      <td>5</td>\n",
              "      <td>cellular</td>\n",
              "      <td>aug</td>\n",
              "      <td>thu</td>\n",
              "      <td>210</td>\n",
              "      <td>43</td>\n",
              "      <td>0</td>\n",
              "      <td>88</td>\n",
              "      <td>0</td>\n",
              "    </tr>\n",
              "    <tr>\n",
              "      <th>1</th>\n",
              "      <td>53</td>\n",
              "      <td>technician</td>\n",
              "      <td>married</td>\n",
              "      <td>unknown</td>\n",
              "      <td>1</td>\n",
              "      <td>no</td>\n",
              "      <td>no</td>\n",
              "      <td>no</td>\n",
              "      <td>0</td>\n",
              "      <td>0</td>\n",
              "      <td>0</td>\n",
              "      <td>cellular</td>\n",
              "      <td>nov</td>\n",
              "      <td>fri</td>\n",
              "      <td>138</td>\n",
              "      <td>0</td>\n",
              "      <td>0</td>\n",
              "      <td>14</td>\n",
              "      <td>0</td>\n",
              "    </tr>\n",
              "    <tr>\n",
              "      <th>2</th>\n",
              "      <td>28</td>\n",
              "      <td>management</td>\n",
              "      <td>single</td>\n",
              "      <td>university.degree</td>\n",
              "      <td>3</td>\n",
              "      <td>no</td>\n",
              "      <td>yes</td>\n",
              "      <td>no</td>\n",
              "      <td>308036</td>\n",
              "      <td>0</td>\n",
              "      <td>0</td>\n",
              "      <td>cellular</td>\n",
              "      <td>jun</td>\n",
              "      <td>thu</td>\n",
              "      <td>339</td>\n",
              "      <td>27</td>\n",
              "      <td>2</td>\n",
              "      <td>1993</td>\n",
              "      <td>1</td>\n",
              "    </tr>\n",
              "    <tr>\n",
              "      <th>3</th>\n",
              "      <td>39</td>\n",
              "      <td>services</td>\n",
              "      <td>married</td>\n",
              "      <td>Technological_school</td>\n",
              "      <td>1</td>\n",
              "      <td>no</td>\n",
              "      <td>no</td>\n",
              "      <td>no</td>\n",
              "      <td>0</td>\n",
              "      <td>0</td>\n",
              "      <td>4</td>\n",
              "      <td>cellular</td>\n",
              "      <td>apr</td>\n",
              "      <td>fri</td>\n",
              "      <td>185</td>\n",
              "      <td>0</td>\n",
              "      <td>0</td>\n",
              "      <td>1338</td>\n",
              "      <td>0</td>\n",
              "    </tr>\n",
              "    <tr>\n",
              "      <th>4</th>\n",
              "      <td>55</td>\n",
              "      <td>retired</td>\n",
              "      <td>married</td>\n",
              "      <td>preschool</td>\n",
              "      <td>2</td>\n",
              "      <td>no</td>\n",
              "      <td>yes</td>\n",
              "      <td>no</td>\n",
              "      <td>249888</td>\n",
              "      <td>0</td>\n",
              "      <td>4</td>\n",
              "      <td>cellular</td>\n",
              "      <td>aug</td>\n",
              "      <td>fri</td>\n",
              "      <td>137</td>\n",
              "      <td>2</td>\n",
              "      <td>1</td>\n",
              "      <td>1184</td>\n",
              "      <td>1</td>\n",
              "    </tr>\n",
              "    <tr>\n",
              "      <th>5</th>\n",
              "      <td>30</td>\n",
              "      <td>management</td>\n",
              "      <td>divorced</td>\n",
              "      <td>preschool</td>\n",
              "      <td>6</td>\n",
              "      <td>yes</td>\n",
              "      <td>yes</td>\n",
              "      <td>no</td>\n",
              "      <td>499476</td>\n",
              "      <td>75</td>\n",
              "      <td>1</td>\n",
              "      <td>cellular</td>\n",
              "      <td>jul</td>\n",
              "      <td>tue</td>\n",
              "      <td>68</td>\n",
              "      <td>90</td>\n",
              "      <td>0</td>\n",
              "      <td>1553</td>\n",
              "      <td>0</td>\n",
              "    </tr>\n",
              "    <tr>\n",
              "      <th>6</th>\n",
              "      <td>37</td>\n",
              "      <td>blue-collar</td>\n",
              "      <td>married</td>\n",
              "      <td>preschool</td>\n",
              "      <td>6</td>\n",
              "      <td>no</td>\n",
              "      <td>yes</td>\n",
              "      <td>no</td>\n",
              "      <td>86520</td>\n",
              "      <td>0</td>\n",
              "      <td>5</td>\n",
              "      <td>cellular</td>\n",
              "      <td>may</td>\n",
              "      <td>thu</td>\n",
              "      <td>204</td>\n",
              "      <td>66</td>\n",
              "      <td>0</td>\n",
              "      <td>442</td>\n",
              "      <td>0</td>\n",
              "    </tr>\n",
              "    <tr>\n",
              "      <th>7</th>\n",
              "      <td>39</td>\n",
              "      <td>blue-collar</td>\n",
              "      <td>divorced</td>\n",
              "      <td>tecnical_school</td>\n",
              "      <td>4</td>\n",
              "      <td>no</td>\n",
              "      <td>yes</td>\n",
              "      <td>no</td>\n",
              "      <td>176081</td>\n",
              "      <td>0</td>\n",
              "      <td>1</td>\n",
              "      <td>cellular</td>\n",
              "      <td>may</td>\n",
              "      <td>fri</td>\n",
              "      <td>191</td>\n",
              "      <td>51</td>\n",
              "      <td>0</td>\n",
              "      <td>495</td>\n",
              "      <td>0</td>\n",
              "    </tr>\n",
              "    <tr>\n",
              "      <th>8</th>\n",
              "      <td>36</td>\n",
              "      <td>admin.</td>\n",
              "      <td>married</td>\n",
              "      <td>university.degree</td>\n",
              "      <td>6</td>\n",
              "      <td>no</td>\n",
              "      <td>no</td>\n",
              "      <td>no</td>\n",
              "      <td>0</td>\n",
              "      <td>0</td>\n",
              "      <td>3</td>\n",
              "      <td>cellular</td>\n",
              "      <td>jun</td>\n",
              "      <td>mon</td>\n",
              "      <td>174</td>\n",
              "      <td>0</td>\n",
              "      <td>1</td>\n",
              "      <td>1097</td>\n",
              "      <td>1</td>\n",
              "    </tr>\n",
              "    <tr>\n",
              "      <th>9</th>\n",
              "      <td>27</td>\n",
              "      <td>blue-collar</td>\n",
              "      <td>single</td>\n",
              "      <td>preschool</td>\n",
              "      <td>3</td>\n",
              "      <td>no</td>\n",
              "      <td>yes</td>\n",
              "      <td>no</td>\n",
              "      <td>323709</td>\n",
              "      <td>0</td>\n",
              "      <td>1</td>\n",
              "      <td>cellular</td>\n",
              "      <td>apr</td>\n",
              "      <td>thu</td>\n",
              "      <td>191</td>\n",
              "      <td>33</td>\n",
              "      <td>1</td>\n",
              "      <td>414</td>\n",
              "      <td>0</td>\n",
              "    </tr>\n",
              "  </tbody>\n",
              "</table>\n",
              "</div>"
            ],
            "text/plain": [
              "   edad      trabajo estado_civil   ... anterior_contacto  numero_empleados si_no\n",
              "0    44  blue-collar       married  ...                 0                88     0\n",
              "1    53   technician       married  ...                 0                14     0\n",
              "2    28   management        single  ...                 2              1993     1\n",
              "3    39     services       married  ...                 0              1338     0\n",
              "4    55      retired       married  ...                 1              1184     1\n",
              "5    30   management      divorced  ...                 0              1553     0\n",
              "6    37  blue-collar       married  ...                 0               442     0\n",
              "7    39  blue-collar      divorced  ...                 0               495     0\n",
              "8    36       admin.       married  ...                 1              1097     1\n",
              "9    27  blue-collar        single  ...                 1               414     0\n",
              "\n",
              "[10 rows x 19 columns]"
            ]
          },
          "metadata": {},
          "execution_count": 4
        }
      ]
    },
    {
      "cell_type": "markdown",
      "metadata": {
        "id": "i17ETzayJqpc"
      },
      "source": [
        "## Conociendo los Datos"
      ]
    },
    {
      "cell_type": "code",
      "metadata": {
        "colab": {
          "base_uri": "https://localhost:8080/",
          "height": 320
        },
        "id": "x4JfXHg8Js_K",
        "outputId": "5d1064bc-7482-4fb0-b7d5-5069505cbda1"
      },
      "source": [
        "df.describe()"
      ],
      "execution_count": 5,
      "outputs": [
        {
          "output_type": "execute_result",
          "data": {
            "text/html": [
              "<div>\n",
              "<style scoped>\n",
              "    .dataframe tbody tr th:only-of-type {\n",
              "        vertical-align: middle;\n",
              "    }\n",
              "\n",
              "    .dataframe tbody tr th {\n",
              "        vertical-align: top;\n",
              "    }\n",
              "\n",
              "    .dataframe thead th {\n",
              "        text-align: right;\n",
              "    }\n",
              "</style>\n",
              "<table border=\"1\" class=\"dataframe\">\n",
              "  <thead>\n",
              "    <tr style=\"text-align: right;\">\n",
              "      <th></th>\n",
              "      <th>edad</th>\n",
              "      <th>total_hijos</th>\n",
              "      <th>valor_prestamo</th>\n",
              "      <th>dias_ultimo_pago</th>\n",
              "      <th>tarjetas_credito</th>\n",
              "      <th>duracion_ultimo_contacto</th>\n",
              "      <th>dias_ultimo_contacto</th>\n",
              "      <th>anterior_contacto</th>\n",
              "      <th>numero_empleados</th>\n",
              "      <th>si_no</th>\n",
              "    </tr>\n",
              "  </thead>\n",
              "  <tbody>\n",
              "    <tr>\n",
              "      <th>count</th>\n",
              "      <td>41188.00000</td>\n",
              "      <td>41188.000000</td>\n",
              "      <td>41188.000000</td>\n",
              "      <td>41188.000000</td>\n",
              "      <td>41188.000000</td>\n",
              "      <td>41188.000000</td>\n",
              "      <td>41188.00000</td>\n",
              "      <td>41188.000000</td>\n",
              "      <td>41188.000000</td>\n",
              "      <td>41188.000000</td>\n",
              "    </tr>\n",
              "    <tr>\n",
              "      <th>mean</th>\n",
              "      <td>40.02406</td>\n",
              "      <td>3.984680</td>\n",
              "      <td>149706.676751</td>\n",
              "      <td>0.336409</td>\n",
              "      <td>2.497524</td>\n",
              "      <td>258.285010</td>\n",
              "      <td>26.35117</td>\n",
              "      <td>0.172963</td>\n",
              "      <td>1002.421652</td>\n",
              "      <td>0.112654</td>\n",
              "    </tr>\n",
              "    <tr>\n",
              "      <th>std</th>\n",
              "      <td>10.42125</td>\n",
              "      <td>2.583405</td>\n",
              "      <td>166028.840792</td>\n",
              "      <td>4.478984</td>\n",
              "      <td>1.703683</td>\n",
              "      <td>259.279249</td>\n",
              "      <td>29.94257</td>\n",
              "      <td>0.494901</td>\n",
              "      <td>577.707188</td>\n",
              "      <td>0.316173</td>\n",
              "    </tr>\n",
              "    <tr>\n",
              "      <th>min</th>\n",
              "      <td>17.00000</td>\n",
              "      <td>0.000000</td>\n",
              "      <td>0.000000</td>\n",
              "      <td>0.000000</td>\n",
              "      <td>0.000000</td>\n",
              "      <td>0.000000</td>\n",
              "      <td>0.00000</td>\n",
              "      <td>0.000000</td>\n",
              "      <td>0.000000</td>\n",
              "      <td>0.000000</td>\n",
              "    </tr>\n",
              "    <tr>\n",
              "      <th>25%</th>\n",
              "      <td>32.00000</td>\n",
              "      <td>2.000000</td>\n",
              "      <td>0.000000</td>\n",
              "      <td>0.000000</td>\n",
              "      <td>1.000000</td>\n",
              "      <td>102.000000</td>\n",
              "      <td>0.00000</td>\n",
              "      <td>0.000000</td>\n",
              "      <td>504.000000</td>\n",
              "      <td>0.000000</td>\n",
              "    </tr>\n",
              "    <tr>\n",
              "      <th>50%</th>\n",
              "      <td>38.00000</td>\n",
              "      <td>4.000000</td>\n",
              "      <td>81778.500000</td>\n",
              "      <td>0.000000</td>\n",
              "      <td>2.000000</td>\n",
              "      <td>180.000000</td>\n",
              "      <td>13.00000</td>\n",
              "      <td>0.000000</td>\n",
              "      <td>1001.000000</td>\n",
              "      <td>0.000000</td>\n",
              "    </tr>\n",
              "    <tr>\n",
              "      <th>75%</th>\n",
              "      <td>47.00000</td>\n",
              "      <td>6.000000</td>\n",
              "      <td>290938.500000</td>\n",
              "      <td>0.000000</td>\n",
              "      <td>4.000000</td>\n",
              "      <td>319.000000</td>\n",
              "      <td>52.00000</td>\n",
              "      <td>0.000000</td>\n",
              "      <td>1506.000000</td>\n",
              "      <td>0.000000</td>\n",
              "    </tr>\n",
              "    <tr>\n",
              "      <th>max</th>\n",
              "      <td>98.00000</td>\n",
              "      <td>8.000000</td>\n",
              "      <td>499992.000000</td>\n",
              "      <td>90.000000</td>\n",
              "      <td>5.000000</td>\n",
              "      <td>4918.000000</td>\n",
              "      <td>90.00000</td>\n",
              "      <td>7.000000</td>\n",
              "      <td>2000.000000</td>\n",
              "      <td>1.000000</td>\n",
              "    </tr>\n",
              "  </tbody>\n",
              "</table>\n",
              "</div>"
            ],
            "text/plain": [
              "              edad   total_hijos  ...  numero_empleados         si_no\n",
              "count  41188.00000  41188.000000  ...      41188.000000  41188.000000\n",
              "mean      40.02406      3.984680  ...       1002.421652      0.112654\n",
              "std       10.42125      2.583405  ...        577.707188      0.316173\n",
              "min       17.00000      0.000000  ...          0.000000      0.000000\n",
              "25%       32.00000      2.000000  ...        504.000000      0.000000\n",
              "50%       38.00000      4.000000  ...       1001.000000      0.000000\n",
              "75%       47.00000      6.000000  ...       1506.000000      0.000000\n",
              "max       98.00000      8.000000  ...       2000.000000      1.000000\n",
              "\n",
              "[8 rows x 10 columns]"
            ]
          },
          "metadata": {},
          "execution_count": 5
        }
      ]
    },
    {
      "cell_type": "code",
      "metadata": {
        "colab": {
          "base_uri": "https://localhost:8080/"
        },
        "id": "vStdbI8oJ4By",
        "outputId": "33626376-7903-40d1-bc48-4259b702d85c"
      },
      "source": [
        "df.isnull().sum()"
      ],
      "execution_count": 7,
      "outputs": [
        {
          "output_type": "execute_result",
          "data": {
            "text/plain": [
              "edad                        0\n",
              "trabajo                     0\n",
              "estado_civil                0\n",
              "educacion                   0\n",
              "total_hijos                 0\n",
              "credito_sin_pago            0\n",
              "prestamo_vivienda           0\n",
              "prestamo_personal           0\n",
              "valor_prestamo              0\n",
              "dias_ultimo_pago            0\n",
              "tarjetas_credito            0\n",
              "contacto                    0\n",
              "mes                         0\n",
              "dia_semana                  0\n",
              "duracion_ultimo_contacto    0\n",
              "dias_ultimo_contacto        0\n",
              "anterior_contacto           0\n",
              "numero_empleados            0\n",
              "si_no                       0\n",
              "dtype: int64"
            ]
          },
          "metadata": {},
          "execution_count": 7
        }
      ]
    },
    {
      "cell_type": "code",
      "metadata": {
        "colab": {
          "base_uri": "https://localhost:8080/"
        },
        "id": "ZAJnTpiLJ8lU",
        "outputId": "69041a28-2a71-4695-e4b7-8105fb0b199a"
      },
      "source": [
        "df.info()"
      ],
      "execution_count": 15,
      "outputs": [
        {
          "output_type": "stream",
          "name": "stdout",
          "text": [
            "<class 'pandas.core.frame.DataFrame'>\n",
            "RangeIndex: 41188 entries, 0 to 41187\n",
            "Data columns (total 19 columns):\n",
            " #   Column                    Non-Null Count  Dtype \n",
            "---  ------                    --------------  ----- \n",
            " 0   edad                      41188 non-null  int64 \n",
            " 1   trabajo                   41188 non-null  object\n",
            " 2   estado_civil              41188 non-null  object\n",
            " 3   educacion                 41188 non-null  object\n",
            " 4   total_hijos               41188 non-null  int64 \n",
            " 5   credito_sin_pago          41188 non-null  object\n",
            " 6   prestamo_vivienda         41188 non-null  object\n",
            " 7   prestamo_personal         41188 non-null  object\n",
            " 8   valor_prestamo            41188 non-null  int64 \n",
            " 9   dias_ultimo_pago          41188 non-null  int64 \n",
            " 10  tarjetas_credito          41188 non-null  int64 \n",
            " 11  contacto                  41188 non-null  object\n",
            " 12  mes                       41188 non-null  object\n",
            " 13  dia_semana                41188 non-null  object\n",
            " 14  duracion_ultimo_contacto  41188 non-null  int64 \n",
            " 15  dias_ultimo_contacto      41188 non-null  int64 \n",
            " 16  anterior_contacto         41188 non-null  int64 \n",
            " 17  numero_empleados          41188 non-null  int64 \n",
            " 18  si_no                     41188 non-null  int64 \n",
            "dtypes: int64(10), object(9)\n",
            "memory usage: 6.0+ MB\n"
          ]
        }
      ]
    },
    {
      "cell_type": "code",
      "metadata": {
        "colab": {
          "base_uri": "https://localhost:8080/"
        },
        "id": "EMTgCEh0LO_4",
        "outputId": "3376a44b-ae51-4c1e-a88f-7f1af4482af9"
      },
      "source": [
        "df.shape"
      ],
      "execution_count": 16,
      "outputs": [
        {
          "output_type": "execute_result",
          "data": {
            "text/plain": [
              "(41188, 19)"
            ]
          },
          "metadata": {},
          "execution_count": 16
        }
      ]
    },
    {
      "cell_type": "markdown",
      "metadata": {
        "id": "tsriRzYlL-mF"
      },
      "source": [
        "### Limpiando el Data Set y transformando valores"
      ]
    },
    {
      "cell_type": "code",
      "metadata": {
        "colab": {
          "base_uri": "https://localhost:8080/"
        },
        "id": "OH0YxwXGL9zX",
        "outputId": "28e13076-ea65-4fef-ddb4-cffa61d937e4"
      },
      "source": [
        "df.keys()"
      ],
      "execution_count": 27,
      "outputs": [
        {
          "output_type": "execute_result",
          "data": {
            "text/plain": [
              "Index(['edad', 'trabajo', 'estado_civil ', 'educacion', 'total_hijos',\n",
              "       'credito_sin_pago', 'prestamo_vivienda', 'prestamo_personal',\n",
              "       'valor_prestamo', 'dias_ultimo_pago', 'tarjetas_credito', 'contacto',\n",
              "       'mes', 'dia_semana', 'duracion_ultimo_contacto', 'dias_ultimo_contacto',\n",
              "       'anterior_contacto', 'numero_empleados', 'si_no'],\n",
              "      dtype='object')"
            ]
          },
          "metadata": {},
          "execution_count": 27
        }
      ]
    },
    {
      "cell_type": "code",
      "metadata": {
        "id": "NeruKL8rSC58"
      },
      "source": [
        "#Solo dejamos las columnas que necesitamos\n",
        "df = df.drop(columns=['credito_sin_pago','prestamo_vivienda','prestamo_personal','valor_prestamo','dias_ultimo_pago', 'contacto',\n",
        "                      'mes','dia_semana','duracion_ultimo_contacto','dias_ultimo_contacto','anterior_contacto','numero_empleados'])"
      ],
      "execution_count": 56,
      "outputs": []
    },
    {
      "cell_type": "code",
      "metadata": {
        "colab": {
          "base_uri": "https://localhost:8080/",
          "height": 337
        },
        "id": "M4zOgRW8LRqM",
        "outputId": "82017e87-a121-438a-f4c9-4936ed0803a8"
      },
      "source": [
        "correlation_matrix = df.corr().round(2)\n",
        "sns.heatmap(data=correlation_matrix, annot=True)\n",
        "plt.show()"
      ],
      "execution_count": 59,
      "outputs": [
        {
          "output_type": "display_data",
          "data": {
            "image/png": "[encoded data removed]",
            "text/plain": [
              "<Figure size 432x288 with 2 Axes>"
            ]
          },
          "metadata": {
            "needs_background": "light"
          }
        }
      ]
    },
    {
      "cell_type": "code",
      "metadata": {
        "colab": {
          "base_uri": "https://localhost:8080/"
        },
        "id": "YEkyF8w2Mgzq",
        "outputId": "5fcad902-b43a-4f6b-8770-51a4f16ea14c"
      },
      "source": [
        "df.isna().sum()"
      ],
      "execution_count": 57,
      "outputs": [
        {
          "output_type": "execute_result",
          "data": {
            "text/plain": [
              "edad                0\n",
              "trabajo             0\n",
              "estado_civil        0\n",
              "educacion           0\n",
              "total_hijos         0\n",
              "tarjetas_credito    0\n",
              "si_no               0\n",
              "dtype: int64"
            ]
          },
          "metadata": {},
          "execution_count": 57
        }
      ]
    },
    {
      "cell_type": "code",
      "metadata": {
        "colab": {
          "base_uri": "https://localhost:8080/"
        },
        "id": "eVH7YAwjMiTs",
        "outputId": "aa6ffc35-cb43-4b68-9789-081f616cd62c"
      },
      "source": [
        "print(f\"EDA:\\n{df['edad']}\\n EDU:\\n{df['educacion']}\\n ESCL:\\n{df['estado_civil ']}\\n TRC:\\n{df['tarjetas_credito']}\\n\"+\n",
        " f\"TRB:\\n{df['trabajo']}\\n TH:\\n{df['total_hijos']}\\n SI_NO:\\n{df['si_no']}\")"
      ],
      "execution_count": 58,
      "outputs": [
        {
          "output_type": "stream",
          "name": "stdout",
          "text": [
            "EDA:\n",
            "0        44\n",
            "1        53\n",
            "2        28\n",
            "3        39\n",
            "4        55\n",
            "         ..\n",
            "41183    59\n",
            "41184    31\n",
            "41185    42\n",
            "41186    48\n",
            "41187    25\n",
            "Name: edad, Length: 41188, dtype: int64\n",
            " EDU:\n",
            "0        1\n",
            "1        2\n",
            "2        3\n",
            "3        4\n",
            "4        1\n",
            "        ..\n",
            "41183    4\n",
            "41184    1\n",
            "41185    3\n",
            "41186    6\n",
            "41187    4\n",
            "Name: educacion, Length: 41188, dtype: int64\n",
            " ESCL:\n",
            "0        1\n",
            "1        1\n",
            "2        2\n",
            "3        1\n",
            "4        1\n",
            "        ..\n",
            "41183    1\n",
            "41184    1\n",
            "41185    2\n",
            "41186    1\n",
            "41187    2\n",
            "Name: estado_civil , Length: 41188, dtype: int64\n",
            " TRC:\n",
            "0        5\n",
            "1        0\n",
            "2        0\n",
            "3        4\n",
            "4        4\n",
            "        ..\n",
            "41183    0\n",
            "41184    4\n",
            "41185    3\n",
            "41186    4\n",
            "41187    3\n",
            "Name: tarjetas_credito, Length: 41188, dtype: int64\n",
            "TRB:\n",
            "0         1\n",
            "1         2\n",
            "2         3\n",
            "3         4\n",
            "4         5\n",
            "         ..\n",
            "41183     5\n",
            "41184     7\n",
            "41185     6\n",
            "41186     2\n",
            "41187    12\n",
            "Name: trabajo, Length: 41188, dtype: int64\n",
            " TH:\n",
            "0        7\n",
            "1        1\n",
            "2        3\n",
            "3        1\n",
            "4        2\n",
            "        ..\n",
            "41183    5\n",
            "41184    1\n",
            "41185    1\n",
            "41186    4\n",
            "41187    6\n",
            "Name: total_hijos, Length: 41188, dtype: int64\n",
            " SI_NO:\n",
            "0        0\n",
            "1        0\n",
            "2        1\n",
            "3        0\n",
            "4        1\n",
            "        ..\n",
            "41183    0\n",
            "41184    0\n",
            "41185    0\n",
            "41186    0\n",
            "41187    0\n",
            "Name: si_no, Length: 41188, dtype: int64\n"
          ]
        }
      ]
    },
    {
      "cell_type": "markdown",
      "metadata": {
        "id": "157zqCyAOzij"
      },
      "source": [
        "### Los valores que tienen texto serán convertidos a numericos"
      ]
    },
    {
      "cell_type": "markdown",
      "metadata": {
        "id": "aZEaH29tPaPQ"
      },
      "source": [
        "#### Primero se conocen que posibles campos alojan para así mismo transformarlos"
      ]
    },
    {
      "cell_type": "code",
      "metadata": {
        "colab": {
          "base_uri": "https://localhost:8080/"
        },
        "id": "UtFTLokjM5X-",
        "outputId": "06fbc89e-29f9-4646-ef96-b1f62abd3685"
      },
      "source": [
        "# Primero debo conocer que campos alojan las columnas para poder transformarlos\n",
        "df['educacion'].unique()"
      ],
      "execution_count": 43,
      "outputs": [
        {
          "output_type": "execute_result",
          "data": {
            "text/plain": [
              "array(['preschool', 'unknown', 'university.degree',\n",
              "       'Technological_school', 'tecnical_school', 'professional.course',\n",
              "       'primary_school', 'illiterate'], dtype=object)"
            ]
          },
          "metadata": {},
          "execution_count": 43
        }
      ]
    },
    {
      "cell_type": "code",
      "metadata": {
        "colab": {
          "base_uri": "https://localhost:8080/"
        },
        "id": "IvPT65jFPMCl",
        "outputId": "b8b83249-2d9a-48a3-fb6c-b25fe2635375"
      },
      "source": [
        "df['estado_civil '].unique()"
      ],
      "execution_count": 44,
      "outputs": [
        {
          "output_type": "execute_result",
          "data": {
            "text/plain": [
              "array(['married', 'single', 'divorced', 'unknown'], dtype=object)"
            ]
          },
          "metadata": {},
          "execution_count": 44
        }
      ]
    },
    {
      "cell_type": "code",
      "metadata": {
        "colab": {
          "base_uri": "https://localhost:8080/"
        },
        "id": "WgemVxsPPSZU",
        "outputId": "0f964ad3-a665-477d-df88-24155e7519c6"
      },
      "source": [
        "df['trabajo'].unique()"
      ],
      "execution_count": 45,
      "outputs": [
        {
          "output_type": "execute_result",
          "data": {
            "text/plain": [
              "array(['blue-collar', 'technician', 'management', 'services', 'retired',\n",
              "       'admin.', 'housemaid', 'unemployed', 'entrepreneur',\n",
              "       'self-employed', 'unknown', 'student'], dtype=object)"
            ]
          },
          "metadata": {},
          "execution_count": 45
        }
      ]
    },
    {
      "cell_type": "code",
      "metadata": {
        "colab": {
          "base_uri": "https://localhost:8080/"
        },
        "id": "MGNQzKGdPkWb",
        "outputId": "83514868-c2a3-4f0c-f350-bb2f99764c65"
      },
      "source": [
        "# Transformando Educacion\n",
        "valores_cambio = {'educacion':{'preschool':1, 'unknown':2, 'university.degree':3,\n",
        "                               'Technological_school':4, 'tecnical_school':5, \n",
        "                               'professional.course':6, 'primary_school':7, \n",
        "                               'illiterate':7}}\n",
        "df.replace(valores_cambio, inplace=True)\n",
        "df['educacion']"
      ],
      "execution_count": 48,
      "outputs": [
        {
          "output_type": "execute_result",
          "data": {
            "text/plain": [
              "0        1\n",
              "1        2\n",
              "2        3\n",
              "3        4\n",
              "4        1\n",
              "        ..\n",
              "41183    4\n",
              "41184    1\n",
              "41185    3\n",
              "41186    6\n",
              "41187    4\n",
              "Name: educacion, Length: 41188, dtype: int64"
            ]
          },
          "metadata": {},
          "execution_count": 48
        }
      ]
    },
    {
      "cell_type": "code",
      "metadata": {
        "colab": {
          "base_uri": "https://localhost:8080/"
        },
        "id": "kUO82TXlQUeq",
        "outputId": "107c1a2c-d73b-47a6-cb35-58862c1be057"
      },
      "source": [
        "# Transformando Estado Civil\n",
        "valores_cambio = {'estado_civil ':{'married':1, 'single':2, 'divorced':3,'unknown':4}}\n",
        "df.replace(valores_cambio, inplace=True)\n",
        "df['estado_civil ']"
      ],
      "execution_count": 51,
      "outputs": [
        {
          "output_type": "execute_result",
          "data": {
            "text/plain": [
              "0        1\n",
              "1        1\n",
              "2        2\n",
              "3        1\n",
              "4        1\n",
              "        ..\n",
              "41183    1\n",
              "41184    1\n",
              "41185    2\n",
              "41186    1\n",
              "41187    2\n",
              "Name: estado_civil , Length: 41188, dtype: int64"
            ]
          },
          "metadata": {},
          "execution_count": 51
        }
      ]
    },
    {
      "cell_type": "code",
      "metadata": {
        "colab": {
          "base_uri": "https://localhost:8080/"
        },
        "id": "w97kklGoQuAV",
        "outputId": "cc5a01ad-f8dd-4d57-ca6a-264799e7782d"
      },
      "source": [
        "# Transformando trabajo\n",
        "#['blue-collar', 'technician', 'management', 'services', 'retired',\n",
        "#       'admin.', 'housemaid', 'unemployed', 'entrepreneur',\n",
        "#      'self-employed', 'unknown', 'student'], dtype=object)\n",
        "valores_cambio = {'trabajo':{'blue-collar':1, 'technician':2, 'management':3,'services':4,\n",
        "                              'retired':5, 'admin.':6, 'housemaid':7, 'unemployed':8,'entrepreneur':9,\n",
        "                              'self-employed':10, 'unknown':11, 'student':12}}\n",
        "df.replace(valores_cambio, inplace=True)\n",
        "df['trabajo']"
      ],
      "execution_count": 54,
      "outputs": [
        {
          "output_type": "execute_result",
          "data": {
            "text/plain": [
              "0         1\n",
              "1         2\n",
              "2         3\n",
              "3         4\n",
              "4         5\n",
              "         ..\n",
              "41183     5\n",
              "41184     7\n",
              "41185     6\n",
              "41186     2\n",
              "41187    12\n",
              "Name: trabajo, Length: 41188, dtype: int64"
            ]
          },
          "metadata": {},
          "execution_count": 54
        }
      ]
    },
    {
      "cell_type": "markdown",
      "metadata": {
        "id": "ldNWk0SGRiU9"
      },
      "source": [
        "### Se Intenta de nuevo graficar la matriz de correlación "
      ]
    },
    {
      "cell_type": "code",
      "metadata": {
        "id": "Mbfz8ZaGS8B5"
      },
      "source": [
        "df['edad'] = pd.to_numeric(df['edad'],errors='coerce')\n",
        "df['trabajo'] = pd.to_numeric(df['trabajo'],errors='coerce')\n",
        "df['educacion'] = pd.to_numeric(df['educacion'],errors='coerce')\n",
        "df['total_hijos'] = pd.to_numeric(df['total_hijos'],errors='coerce')\n",
        "df['estado_civil '] = pd.to_numeric(df['estado_civil '],errors='coerce')\n",
        "df['si_no'] = pd.to_numeric(df['si_no'],errors='coerce')\n"
      ],
      "execution_count": 65,
      "outputs": []
    },
    {
      "cell_type": "code",
      "metadata": {
        "colab": {
          "base_uri": "https://localhost:8080/",
          "height": 337
        },
        "id": "VWH4IKnIRg9K",
        "outputId": "23034cc0-a22c-481d-f259-1ca53152c21d"
      },
      "source": [
        "correlation_matrix = df.corr().round(2)\n",
        "sns.heatmap(data=correlation_matrix, annot=True)\n",
        "plt.show()"
      ],
      "execution_count": 66,
      "outputs": [
        {
          "output_type": "display_data",
          "data": {
            "image/png": "[encoded data removed]",
            "text/plain": [
              "<Figure size 432x288 with 2 Axes>"
            ]
          },
          "metadata": {
            "needs_background": "light"
          }
        }
      ]
    },
    {
      "cell_type": "code",
      "metadata": {
        "colab": {
          "base_uri": "https://localhost:8080/",
          "height": 557
        },
        "id": "J73BQOpmSu6t",
        "outputId": "3b5bdc74-f12d-4cbc-c885-6553854b533a"
      },
      "source": [
        "X = df['total_hijos']\n",
        "y = df['si_no']\n",
        "plt.scatter(X,y, s=20,alpha=1)\n",
        "plt.xlabel('Total de Hijos')\n",
        "plt.ylabel('Educación ')\n",
        "plt.show()"
      ],
      "execution_count": 79,
      "outputs": [
        {
          "output_type": "display_data",
          "data": {
            "image/png": "[encoded data removed]",
            "text/plain": [
              "<Figure size 864x648 with 1 Axes>"
            ]
          },
          "metadata": {}
        }
      ]
    },
    {
      "cell_type": "code",
      "metadata": {
        "colab": {
          "base_uri": "https://localhost:8080/",
          "height": 612
        },
        "id": "9wfOiO9yTvEZ",
        "outputId": "2c21d42d-d113-4c5c-b414-d27818af5646"
      },
      "source": [
        "sns.set(rc={'figure.figsize':(12,9)})# Tamaño del Gráfico\n",
        "sns.distplot(df['educacion'])\n",
        "plt.show()"
      ],
      "execution_count": 75,
      "outputs": [
        {
          "output_type": "stream",
          "name": "stderr",
          "text": [
            "/usr/local/lib/python3.7/dist-packages/seaborn/distributions.py:2557: FutureWarning: `distplot` is a deprecated function and will be removed in a future version. Please adapt your code to use either `displot` (a figure-level function with similar flexibility) or `histplot` (an axes-level function for histograms).\n",
            "  warnings.warn(msg, FutureWarning)\n"
          ]
        },
        {
          "output_type": "display_data",
          "data": {
            "image/png": "[encoded data removed]",
            "text/plain": [
              "<Figure size 864x648 with 1 Axes>"
            ]
          },
          "metadata": {}
        }
      ]
    },
    {
      "cell_type": "code",
      "metadata": {
        "colab": {
          "base_uri": "https://localhost:8080/",
          "height": 612
        },
        "id": "rr0n-KQCTzL-",
        "outputId": "34f7fd6e-dfb9-40a3-d268-a948f81c3ff2"
      },
      "source": [
        "sns.set(rc={'figure.figsize':(12,9)})# Tamaño del Gráfico\n",
        "sns.distplot(df['estado_civil '])\n",
        "plt.show()"
      ],
      "execution_count": 76,
      "outputs": [
        {
          "output_type": "stream",
          "name": "stderr",
          "text": [
            "/usr/local/lib/python3.7/dist-packages/seaborn/distributions.py:2557: FutureWarning: `distplot` is a deprecated function and will be removed in a future version. Please adapt your code to use either `displot` (a figure-level function with similar flexibility) or `histplot` (an axes-level function for histograms).\n",
            "  warnings.warn(msg, FutureWarning)\n"
          ]
        },
        {
          "output_type": "display_data",
          "data": {
            "image/png": "[encoded data removed]",
            "text/plain": [
              "<Figure size 864x648 with 1 Axes>"
            ]
          },
          "metadata": {}
        }
      ]
    },
    {
      "cell_type": "code",
      "metadata": {
        "colab": {
          "base_uri": "https://localhost:8080/",
          "height": 612
        },
        "id": "zqdfF2-bT1fH",
        "outputId": "d73dfd90-2ab0-46bf-8c41-b95094a1b55d"
      },
      "source": [
        "sns.set(rc={'figure.figsize':(12,9)})# Tamaño del Gráfico\n",
        "sns.distplot(df['total_hijos'])\n",
        "plt.show()"
      ],
      "execution_count": 77,
      "outputs": [
        {
          "output_type": "stream",
          "name": "stderr",
          "text": [
            "/usr/local/lib/python3.7/dist-packages/seaborn/distributions.py:2557: FutureWarning: `distplot` is a deprecated function and will be removed in a future version. Please adapt your code to use either `displot` (a figure-level function with similar flexibility) or `histplot` (an axes-level function for histograms).\n",
            "  warnings.warn(msg, FutureWarning)\n"
          ]
        },
        {
          "output_type": "display_data",
          "data": {
            "image/png": "[encoded data removed]",
            "text/plain": [
              "<Figure size 864x648 with 1 Axes>"
            ]
          },
          "metadata": {}
        }
      ]
    },
    {
      "cell_type": "code",
      "metadata": {
        "colab": {
          "base_uri": "https://localhost:8080/",
          "height": 612
        },
        "id": "86aCCMroT3b6",
        "outputId": "8dd6c72b-9413-4056-ca1e-38b1ca9a7240"
      },
      "source": [
        "sns.set(rc={'figure.figsize':(12,9)})# Tamaño del Gráfico\n",
        "sns.distplot(df['si_no'])\n",
        "plt.show()"
      ],
      "execution_count": 78,
      "outputs": [
        {
          "output_type": "stream",
          "name": "stderr",
          "text": [
            "/usr/local/lib/python3.7/dist-packages/seaborn/distributions.py:2557: FutureWarning: `distplot` is a deprecated function and will be removed in a future version. Please adapt your code to use either `displot` (a figure-level function with similar flexibility) or `histplot` (an axes-level function for histograms).\n",
            "  warnings.warn(msg, FutureWarning)\n"
          ]
        },
        {
          "output_type": "display_data",
          "data": {
            "image/png": "[encoded data removed]",
            "text/plain": [
              "<Figure size 864x648 with 1 Axes>"
            ]
          },
          "metadata": {}
        }
      ]
    },
    {
      "cell_type": "code",
      "metadata": {
        "colab": {
          "base_uri": "https://localhost:8080/",
          "height": 557
        },
        "id": "9Vu1JXDMT9f4",
        "outputId": "797144d6-8fad-4e9b-ad01-095961199523"
      },
      "source": [
        "X = df['educacion']\n",
        "y = df['si_no']\n",
        "plt.scatter(X,y, s=15,alpha=0.5)\n",
        "plt.xlabel('Total de Hijos')\n",
        "plt.ylabel('Educación ')\n",
        "plt.show()"
      ],
      "execution_count": 82,
      "outputs": [
        {
          "output_type": "display_data",
          "data": {
            "image/png": "[encoded data removed]",
            "text/plain": [
              "<Figure size 864x648 with 1 Axes>"
            ]
          },
          "metadata": {}
        }
      ]
    },
    {
      "cell_type": "code",
      "metadata": {
        "colab": {
          "base_uri": "https://localhost:8080/",
          "height": 557
        },
        "id": "WzfbXq7OUKuO",
        "outputId": "5b184257-87c3-41c9-acb7-7808de375ce8"
      },
      "source": [
        "X = df['trabajo']\n",
        "y = df['si_no']\n",
        "plt.scatter(X,y, s=15,alpha=0.5)\n",
        "plt.xlabel('Total de Hijos')\n",
        "plt.ylabel('Educación ')\n",
        "plt.show()"
      ],
      "execution_count": 83,
      "outputs": [
        {
          "output_type": "display_data",
          "data": {
            "image/png": "[encoded data removed]",
            "text/plain": [
              "<Figure size 864x648 with 1 Axes>"
            ]
          },
          "metadata": {}
        }
      ]
    },
    {
      "cell_type": "code",
      "metadata": {
        "colab": {
          "base_uri": "https://localhost:8080/",
          "height": 557
        },
        "id": "kDif9sU7UO04",
        "outputId": "6266c2ae-63d0-4728-a580-a4fb5d9f3889"
      },
      "source": [
        "X = df['tarjetas_credito']\n",
        "y = df['si_no']\n",
        "plt.scatter(X,y, s=15,alpha=0.5)\n",
        "plt.xlabel('Total de Hijos')\n",
        "plt.ylabel('Educación ')\n",
        "plt.show()"
      ],
      "execution_count": 84,
      "outputs": [
        {
          "output_type": "display_data",
          "data": {
            "image/png": "[encoded data removed]",
            "text/plain": [
              "<Figure size 864x648 with 1 Axes>"
            ]
          },
          "metadata": {}
        }
      ]
    },
    {
      "cell_type": "code",
      "metadata": {
        "colab": {
          "base_uri": "https://localhost:8080/"
        },
        "id": "i9GhbRfPUdrl",
        "outputId": "70be7b49-44d2-468f-ccb4-aa812c0c90a8"
      },
      "source": [
        "#df['edad'] df['educacion'] df['estado_civil ']  df['tarjetas_credito'] df['trabajo'] df['total_hijos'] df['si_no']\n",
        "df2 = pd.DataFrame(df)\n",
        "# print(df2)\n",
        "x = np.array(df2.drop('si_no', axis=1))\n",
        "#En Y colocaremos el resultado del examen (1 / 0 ) (aprobado / reprobado)\n",
        "y= np.array(df['si_no'])\n",
        "print(X)\n",
        "print(y)"
      ],
      "execution_count": 90,
      "outputs": [
        {
          "output_type": "stream",
          "name": "stdout",
          "text": [
            "[[44  1  1  1  7  5]\n",
            " [53  2  1  2  1  0]\n",
            " [28  3  2  3  3  0]\n",
            " ...\n",
            " [42  6  2  3  1  3]\n",
            " [48  2  1  6  4  4]\n",
            " [25 12  2  4  6  3]]\n",
            "[0 0 1 ... 0 0 0]\n"
          ]
        }
      ]
    },
    {
      "cell_type": "code",
      "metadata": {
        "id": "wLvk9FGVWDBp"
      },
      "source": [
        "#separamos los datos 25%(test) y 75%(train)\n",
        "#x_train, x_test, y_train, y_test = train_test_split(x, y, random_state=4)\n",
        "#Si deseamos cambiar la proporción solo debemos agregar la variable test_size=0.x \n",
        "x_train, x_test, y_train, y_test = train_test_split(x, y, random_state=29,test_size=0.24)"
      ],
      "execution_count": 267,
      "outputs": []
    },
    {
      "cell_type": "code",
      "metadata": {
        "id": "4v2tIqBqWONz"
      },
      "source": [
        "regresion_logistica = LogisticRegression()"
      ],
      "execution_count": 268,
      "outputs": []
    },
    {
      "cell_type": "code",
      "metadata": {
        "colab": {
          "base_uri": "https://localhost:8080/"
        },
        "id": "bBCzhTB8WQd8",
        "outputId": "65a1160e-21a9-4cb7-925f-7df435b5f96d"
      },
      "source": [
        "regresion_logistica.fit(x,y)"
      ],
      "execution_count": 269,
      "outputs": [
        {
          "output_type": "execute_result",
          "data": {
            "text/plain": [
              "LogisticRegression(C=1.0, class_weight=None, dual=False, fit_intercept=True,\n",
              "                   intercept_scaling=1, l1_ratio=None, max_iter=100,\n",
              "                   multi_class='auto', n_jobs=None, penalty='l2',\n",
              "                   random_state=None, solver='lbfgs', tol=0.0001, verbose=0,\n",
              "                   warm_start=False)"
            ]
          },
          "metadata": {},
          "execution_count": 269
        }
      ]
    },
    {
      "cell_type": "code",
      "metadata": {
        "id": "IsiS9IYkWS4H"
      },
      "source": [
        "#usaremos el 20% de los datos para probar el modelo\n",
        "#ejecutamos la predicción con datos de prueba (x_test)\n",
        "y_prediccion = regresion_logistica.predict(x_test)"
      ],
      "execution_count": 270,
      "outputs": []
    },
    {
      "cell_type": "code",
      "metadata": {
        "colab": {
          "base_uri": "https://localhost:8080/"
        },
        "id": "inWHLWMiWVIJ",
        "outputId": "86c1ab06-e036-420d-d587-448e19a41d59"
      },
      "source": [
        "#comparamos los datos de predicción (y_prediccion) VS los datos de prueba (y_test)\n",
        "exactitud = metrics.accuracy_score(y_test, y_prediccion)\n",
        "print(\"exactitud_percentaje= \"+str(100 * exactitud))"
      ],
      "execution_count": 271,
      "outputs": [
        {
          "output_type": "stream",
          "name": "stdout",
          "text": [
            "exactitud_percentaje= 89.24742059478051\n"
          ]
        }
      ]
    }
  ]
}