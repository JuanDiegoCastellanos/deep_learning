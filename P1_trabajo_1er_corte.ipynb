{
  "nbformat": 4,
  "nbformat_minor": 0,
  "metadata": {
    "colab": {
      "name": "P1_trabajo_1er_corte.ipynb",
      "provenance": [],
      "collapsed_sections": []
    },
    "kernelspec": {
      "name": "python3",
      "display_name": "Python 3"
    },
    "language_info": {
      "name": "python"
    }
  },
  "cells": [
    {
      "cell_type": "markdown",
      "metadata": {
        "id": "uWv0Lr7ZIS4-"
      },
      "source": [
        "#TALLER FINAL 1ER CORTE - JUAN DIEGO CASTELLANOS JEREZ"
      ]
    },
    {
      "cell_type": "markdown",
      "metadata": {
        "id": "zJu_qLU0GmB0"
      },
      "source": [
        "###INSTALACIÓN LIBRERIAS"
      ]
    },
    {
      "cell_type": "code",
      "metadata": {
        "colab": {
          "base_uri": "https://localhost:8080/"
        },
        "id": "_QvQBAyI8Y6i",
        "outputId": "1adbfd28-a40b-427c-bde6-51f7104b6d1d"
      },
      "source": [
        "!pip install fsspec\n",
        "!pip install beautifulsoup4\n",
        "!pip install wikitables"
      ],
      "execution_count": 121,
      "outputs": [
        {
          "output_type": "stream",
          "name": "stdout",
          "text": [
            "Requirement already satisfied: fsspec in /usr/local/lib/python3.7/dist-packages (2021.9.0)\n",
            "Requirement already satisfied: beautifulsoup4 in /usr/local/lib/python3.7/dist-packages (4.6.3)\n",
            "Requirement already satisfied: wikitables in /usr/local/lib/python3.7/dist-packages (0.5.5)\n",
            "Requirement already satisfied: pycountry>=20.7.3 in /usr/local/lib/python3.7/dist-packages (from wikitables) (20.7.3)\n",
            "Requirement already satisfied: mwparserfromhell>=0.4.3 in /usr/local/lib/python3.7/dist-packages (from wikitables) (0.6.3)\n",
            "Requirement already satisfied: requests>=2.9.1 in /usr/local/lib/python3.7/dist-packages (from wikitables) (2.23.0)\n",
            "Requirement already satisfied: idna<3,>=2.5 in /usr/local/lib/python3.7/dist-packages (from requests>=2.9.1->wikitables) (2.10)\n",
            "Requirement already satisfied: urllib3!=1.25.0,!=1.25.1,<1.26,>=1.21.1 in /usr/local/lib/python3.7/dist-packages (from requests>=2.9.1->wikitables) (1.24.3)\n",
            "Requirement already satisfied: chardet<4,>=3.0.2 in /usr/local/lib/python3.7/dist-packages (from requests>=2.9.1->wikitables) (3.0.4)\n",
            "Requirement already satisfied: certifi>=2017.4.17 in /usr/local/lib/python3.7/dist-packages (from requests>=2.9.1->wikitables) (2021.5.30)\n"
          ]
        }
      ]
    },
    {
      "cell_type": "markdown",
      "metadata": {
        "id": "4Ve1Yw_lIQJ4"
      },
      "source": [
        "###IMPORTACIÓN DE LIBRERIAS"
      ]
    },
    {
      "cell_type": "code",
      "metadata": {
        "id": "3SZxj9EeIOU3"
      },
      "source": [
        "# Librerías clásicas\n",
        "import numpy as np\n",
        "import pandas as pd\n",
        "import matplotlib.pyplot as plt\n",
        "import seaborn as sb \n",
        "\n",
        "\n",
        "#Sklearn\n",
        "from sklearn.cluster import KMeans\n",
        "from sklearn import preprocessing\n",
        "from sklearn.metrics import pairwise_distances_argmin_min\n",
        "from sklearn.decomposition import PCA\n",
        "\n",
        "#Others\n",
        "from mpl_toolkits.mplot3d import Axes3D\n",
        "import requests\n",
        "from bs4 import BeautifulSoup\n",
        "\n",
        "\n",
        "%matplotlib inline\n",
        "plt.rcParams['figure.figsize'] = (16,9)\n",
        "plt.style.use('ggplot')"
      ],
      "execution_count": 122,
      "outputs": []
    },
    {
      "cell_type": "code",
      "metadata": {
        "id": "_U49t55YsBtO"
      },
      "source": [
        "def to_float_from_str_decimal(string):\n",
        "    \"\"\" It convert '12.540,5' to 125040.50 \"\"\"\n",
        "    try:\n",
        "        return float(string.replace(',', '.').replace('.', ''))\n",
        "    except:\n",
        "        return string"
      ],
      "execution_count": 238,
      "outputs": []
    },
    {
      "cell_type": "code",
      "metadata": {
        "colab": {
          "base_uri": "https://localhost:8080/",
          "height": 206
        },
        "id": "uIPUia7kKopB",
        "outputId": "a0d8308f-493e-4ba8-e948-b97082d25019"
      },
      "source": [
        "df_accion = pd.read_csv(\"drive/MyDrive/deep_learning/finance.csv\",delimiter=\",\",skip_blank_lines=True,converters={'volume': to_float_from_str_decimal})\n",
        "df_accion.head(5)"
      ],
      "execution_count": 239,
      "outputs": [
        {
          "output_type": "execute_result",
          "data": {
            "text/html": [
              "<div>\n",
              "<style scoped>\n",
              "    .dataframe tbody tr th:only-of-type {\n",
              "        vertical-align: middle;\n",
              "    }\n",
              "\n",
              "    .dataframe tbody tr th {\n",
              "        vertical-align: top;\n",
              "    }\n",
              "\n",
              "    .dataframe thead th {\n",
              "        text-align: right;\n",
              "    }\n",
              "</style>\n",
              "<table border=\"1\" class=\"dataframe\">\n",
              "  <thead>\n",
              "    <tr style=\"text-align: right;\">\n",
              "      <th></th>\n",
              "      <th>date</th>\n",
              "      <th>open</th>\n",
              "      <th>high</th>\n",
              "      <th>low</th>\n",
              "      <th>close</th>\n",
              "      <th>adjClose</th>\n",
              "      <th>volume</th>\n",
              "    </tr>\n",
              "  </thead>\n",
              "  <tbody>\n",
              "    <tr>\n",
              "      <th>0</th>\n",
              "      <td>Sep 24, 2021</td>\n",
              "      <td>46.40</td>\n",
              "      <td>46.74</td>\n",
              "      <td>46.24</td>\n",
              "      <td>46.51</td>\n",
              "      <td>46.51</td>\n",
              "      <td>1.0735e+06</td>\n",
              "    </tr>\n",
              "    <tr>\n",
              "      <th>1</th>\n",
              "      <td>Sep 23, 2021</td>\n",
              "      <td>45.79</td>\n",
              "      <td>46.57</td>\n",
              "      <td>45.76</td>\n",
              "      <td>46.36</td>\n",
              "      <td>46.36</td>\n",
              "      <td>1.509e+06</td>\n",
              "    </tr>\n",
              "    <tr>\n",
              "      <th>2</th>\n",
              "      <td>Sep 22, 2021</td>\n",
              "      <td>45.21</td>\n",
              "      <td>46.07</td>\n",
              "      <td>44.99</td>\n",
              "      <td>45.63</td>\n",
              "      <td>45.63</td>\n",
              "      <td>1.6682e+06</td>\n",
              "    </tr>\n",
              "    <tr>\n",
              "      <th>3</th>\n",
              "      <td>Sep 21, 2021</td>\n",
              "      <td>45.28</td>\n",
              "      <td>45.77</td>\n",
              "      <td>44.62</td>\n",
              "      <td>44.80</td>\n",
              "      <td>44.80</td>\n",
              "      <td>1.5865e+06</td>\n",
              "    </tr>\n",
              "    <tr>\n",
              "      <th>4</th>\n",
              "      <td>Sep 20, 2021</td>\n",
              "      <td>45.04</td>\n",
              "      <td>45.40</td>\n",
              "      <td>44.49</td>\n",
              "      <td>45.10</td>\n",
              "      <td>45.10</td>\n",
              "      <td>1.8211e+06</td>\n",
              "    </tr>\n",
              "  </tbody>\n",
              "</table>\n",
              "</div>"
            ],
            "text/plain": [
              "           date   open   high    low  close  adjClose      volume\n",
              "0  Sep 24, 2021  46.40  46.74  46.24  46.51     46.51  1.0735e+06\n",
              "1  Sep 23, 2021  45.79  46.57  45.76  46.36     46.36   1.509e+06\n",
              "2  Sep 22, 2021  45.21  46.07  44.99  45.63     45.63  1.6682e+06\n",
              "3  Sep 21, 2021  45.28  45.77  44.62  44.80     44.80  1.5865e+06\n",
              "4  Sep 20, 2021  45.04  45.40  44.49  45.10     45.10  1.8211e+06"
            ]
          },
          "metadata": {},
          "execution_count": 239
        }
      ]
    },
    {
      "cell_type": "markdown",
      "metadata": {
        "id": "kqh0I22OPGUq"
      },
      "source": [
        "###CONOCIENDO DATOS"
      ]
    },
    {
      "cell_type": "code",
      "metadata": {
        "colab": {
          "base_uri": "https://localhost:8080/"
        },
        "id": "6in2jaN2PFnB",
        "outputId": "54d8bad7-6cda-4190-dd3e-39fcff74899a"
      },
      "source": [
        "#df_accion.info()\n",
        "#df_accion.shape\n",
        "#df_accion.describe()\n",
        "df_accion.isnull().sum()"
      ],
      "execution_count": 240,
      "outputs": [
        {
          "output_type": "execute_result",
          "data": {
            "text/plain": [
              "date         0\n",
              "open        76\n",
              "high        76\n",
              "low         76\n",
              "close       76\n",
              "adjClose    76\n",
              "volume       0\n",
              "dtype: int64"
            ]
          },
          "metadata": {},
          "execution_count": 240
        }
      ]
    },
    {
      "cell_type": "markdown",
      "metadata": {
        "id": "Tonyo_5vRbKp"
      },
      "source": [
        "###ELIMINANDO FILAS VACIAS"
      ]
    },
    {
      "cell_type": "code",
      "metadata": {
        "id": "3vAIMca2QJHI"
      },
      "source": [
        "df_accion = df_accion.dropna()\n",
        "df_accion = df_accion.reset_index(drop=True)\n"
      ],
      "execution_count": 241,
      "outputs": []
    },
    {
      "cell_type": "code",
      "metadata": {
        "id": "vGxaGvkWrABJ"
      },
      "source": [
        "df_accion['volume']= pd.to_numeric(df_accion['volume'])"
      ],
      "execution_count": 244,
      "outputs": []
    },
    {
      "cell_type": "markdown",
      "metadata": {
        "id": "Sle5dKCDoT4E"
      },
      "source": [
        "###PREPARANDO DATOS"
      ]
    },
    {
      "cell_type": "code",
      "metadata": {
        "id": "_5kTVr75oS_M"
      },
      "source": [
        "# Eliminamos columna de fecha que no usaremos en el algoritmo.\n",
        "dates = df_accion['date'] # Guardamos la columna Date.\n",
        "df_accion = df_accion.drop('date', 1) # Borramos la columna del dataframe."
      ],
      "execution_count": 245,
      "outputs": []
    },
    {
      "cell_type": "code",
      "metadata": {
        "id": "TDIesVQBogKj"
      },
      "source": [
        "#%% Se normalizan los datos con MinMax()\n",
        "min_max_scaler = preprocessing.MinMaxScaler() \n",
        "df_escalado = min_max_scaler.fit_transform(df_accion)\n",
        "df_escalado = pd.DataFrame(df_escalado) # Hay que convertir a DF el resultado.\n",
        "df_escalado = df_escalado.rename(columns = {0: 'close', 1: 'volume'})\n",
        "\n"
      ],
      "execution_count": 246,
      "outputs": []
    },
    {
      "cell_type": "code",
      "metadata": {
        "colab": {
          "base_uri": "https://localhost:8080/"
        },
        "id": "zTeGnVyftbR0",
        "outputId": "3d9aae21-51c0-4e67-8ed3-ff2961e9f4f3"
      },
      "source": [
        "\n",
        "\n",
        "df_escalado.head()\n",
        "df_escalado.isnull().sum()\n",
        "\n"
      ],
      "execution_count": 247,
      "outputs": [
        {
          "output_type": "execute_result",
          "data": {
            "text/plain": [
              "close     0\n",
              "volume    0\n",
              "2         0\n",
              "3         0\n",
              "4         0\n",
              "5         0\n",
              "dtype: int64"
            ]
          },
          "metadata": {},
          "execution_count": 247
        }
      ]
    },
    {
      "cell_type": "markdown",
      "metadata": {
        "id": "0qwQfLJutgAu"
      },
      "source": [
        "###GRAFICAS"
      ]
    },
    {
      "cell_type": "code",
      "metadata": {
        "colab": {
          "base_uri": "https://localhost:8080/",
          "height": 580
        },
        "id": "_z6Ekacttikb",
        "outputId": "5affc263-ceb5-4e27-d9e6-9e2258721174"
      },
      "source": [
        "#%% Representación gráfica de los datos.\n",
        "x = df_escalado['close'].values\n",
        "y = df_escalado['volume'].values\n",
        "plt.xlabel('apertura de precios')\n",
        "plt.ylabel('Volumen')\n",
        "plt.title('Molson Coors Beverage Company --Cierre vs. Volumen--')\n",
        "plt.plot(x,y,'o',markersize=1)\n",
        "\n"
      ],
      "execution_count": 253,
      "outputs": [
        {
          "output_type": "execute_result",
          "data": {
            "text/plain": [
              "[<matplotlib.lines.Line2D at 0x7f241fb59250>]"
            ]
          },
          "metadata": {},
          "execution_count": 253
        },
        {
          "output_type": "display_data",
          "data": {
            "image/png": "[encoded data removed]",
            "text/plain": [
              "<Figure size 1152x648 with 1 Axes>"
            ]
          },
          "metadata": {}
        }
      ]
    },
    {
      "cell_type": "markdown",
      "metadata": {
        "id": "bqjlqHjmt_IH"
      },
      "source": [
        "###APLICANDO KMEANS"
      ]
    },
    {
      "cell_type": "markdown",
      "metadata": {
        "id": "SXJfAkUxuETk"
      },
      "source": [
        "###GRAFICA \"DE CODO\""
      ]
    },
    {
      "cell_type": "code",
      "metadata": {
        "colab": {
          "base_uri": "https://localhost:8080/",
          "height": 554
        },
        "id": "GsfIsabJuA1P",
        "outputId": "ee3562c8-69d1-4fad-9d09-ca8f5438c198"
      },
      "source": [
        "#%% Curva elbow para determinar valor óptimo de k.\n",
        "nc = range(1, 30) # El número de iteraciones que queremos hacer.\n",
        "kmeans = [KMeans(n_clusters=i) for i in nc]\n",
        "score = [kmeans[i].fit(df_escalado).score(df_escalado) for i in range(len(kmeans))]\n",
        "score\n",
        "plt.xlabel('Número de clústeres (k)')\n",
        "plt.ylabel('Suma de los errores cuadráticos')\n",
        "plt.plot(nc,score)\n",
        "\n"
      ],
      "execution_count": 254,
      "outputs": [
        {
          "output_type": "execute_result",
          "data": {
            "text/plain": [
              "[<matplotlib.lines.Line2D at 0x7f24172d60d0>]"
            ]
          },
          "metadata": {},
          "execution_count": 254
        },
        {
          "output_type": "display_data",
          "data": {
            "image/png": "[encoded data removed]",
            "text/plain": [
              "<Figure size 1152x648 with 1 Axes>"
            ]
          },
          "metadata": {}
        }
      ]
    },
    {
      "cell_type": "markdown",
      "metadata": {
        "id": "AgyvBLipuTAR"
      },
      "source": [
        "###APLICACION DEL ALGORITMO KMEAN"
      ]
    },
    {
      "cell_type": "code",
      "metadata": {
        "colab": {
          "base_uri": "https://localhost:8080/"
        },
        "id": "-YogVLdDucoZ",
        "outputId": "005bb9cd-8b24-478e-f2fe-014fd217ff7e"
      },
      "source": [
        "#%% Aplicación de k-means con k = 5.\n",
        "kmeans = KMeans(n_clusters=5).fit(df_escalado)\n",
        "centroids = kmeans.cluster_centers_\n",
        "print(centroids)   #coordenadas de los centroides"
      ],
      "execution_count": 255,
      "outputs": [
        {
          "output_type": "stream",
          "name": "stdout",
          "text": [
            "[[0.25042154 0.25173451 0.2502473  0.25092815 0.24464175 0.07122659]\n",
            " [0.82065328 0.82249251 0.81697044 0.8228843  0.83333385 0.08519768]\n",
            " [0.58451655 0.58632219 0.58176382 0.58570623 0.60496647 0.0816987 ]\n",
            " [0.10875251 0.10888234 0.11062536 0.10886667 0.09134354 0.04974695]\n",
            " [0.37678694 0.37887482 0.37523655 0.37770955 0.41112188 0.07375449]]\n"
          ]
        }
      ]
    },
    {
      "cell_type": "code",
      "metadata": {
        "id": "wb8cdSRuujKU"
      },
      "source": [
        "labels = kmeans.predict(df_escalado)   #generamos las etiquetas de cada clouster\n",
        "df_accion['label'] = labels                   #añadimos la columna “label” a nuestro dataframe original\n",
        "\n",
        "df_accion.insert(0, 'Date', dates) "
      ],
      "execution_count": 258,
      "outputs": []
    },
    {
      "cell_type": "code",
      "metadata": {
        "colab": {
          "base_uri": "https://localhost:8080/",
          "height": 1000
        },
        "id": "2idHWIPwupeG",
        "outputId": "6fc52842-d7f7-41b6-ba89-db6f573d09e0"
      },
      "source": [
        "df_accion.head(40)"
      ],
      "execution_count": 261,
      "outputs": [
        {
          "output_type": "execute_result",
          "data": {
            "text/html": [
              "<div>\n",
              "<style scoped>\n",
              "    .dataframe tbody tr th:only-of-type {\n",
              "        vertical-align: middle;\n",
              "    }\n",
              "\n",
              "    .dataframe tbody tr th {\n",
              "        vertical-align: top;\n",
              "    }\n",
              "\n",
              "    .dataframe thead th {\n",
              "        text-align: right;\n",
              "    }\n",
              "</style>\n",
              "<table border=\"1\" class=\"dataframe\">\n",
              "  <thead>\n",
              "    <tr style=\"text-align: right;\">\n",
              "      <th></th>\n",
              "      <th>Date</th>\n",
              "      <th>open</th>\n",
              "      <th>high</th>\n",
              "      <th>low</th>\n",
              "      <th>close</th>\n",
              "      <th>adjClose</th>\n",
              "      <th>volume</th>\n",
              "      <th>label</th>\n",
              "    </tr>\n",
              "  </thead>\n",
              "  <tbody>\n",
              "    <tr>\n",
              "      <th>0</th>\n",
              "      <td>Sep 24, 2021</td>\n",
              "      <td>46.40</td>\n",
              "      <td>46.74</td>\n",
              "      <td>46.24</td>\n",
              "      <td>46.51</td>\n",
              "      <td>46.51</td>\n",
              "      <td>1073500.0</td>\n",
              "      <td>0</td>\n",
              "    </tr>\n",
              "    <tr>\n",
              "      <th>1</th>\n",
              "      <td>Sep 23, 2021</td>\n",
              "      <td>45.79</td>\n",
              "      <td>46.57</td>\n",
              "      <td>45.76</td>\n",
              "      <td>46.36</td>\n",
              "      <td>46.36</td>\n",
              "      <td>1509000.0</td>\n",
              "      <td>0</td>\n",
              "    </tr>\n",
              "    <tr>\n",
              "      <th>2</th>\n",
              "      <td>Sep 22, 2021</td>\n",
              "      <td>45.21</td>\n",
              "      <td>46.07</td>\n",
              "      <td>44.99</td>\n",
              "      <td>45.63</td>\n",
              "      <td>45.63</td>\n",
              "      <td>1668200.0</td>\n",
              "      <td>0</td>\n",
              "    </tr>\n",
              "    <tr>\n",
              "      <th>3</th>\n",
              "      <td>Sep 21, 2021</td>\n",
              "      <td>45.28</td>\n",
              "      <td>45.77</td>\n",
              "      <td>44.62</td>\n",
              "      <td>44.80</td>\n",
              "      <td>44.80</td>\n",
              "      <td>1586500.0</td>\n",
              "      <td>0</td>\n",
              "    </tr>\n",
              "    <tr>\n",
              "      <th>4</th>\n",
              "      <td>Sep 20, 2021</td>\n",
              "      <td>45.04</td>\n",
              "      <td>45.40</td>\n",
              "      <td>44.49</td>\n",
              "      <td>45.10</td>\n",
              "      <td>45.10</td>\n",
              "      <td>1821100.0</td>\n",
              "      <td>0</td>\n",
              "    </tr>\n",
              "    <tr>\n",
              "      <th>5</th>\n",
              "      <td>Sep 17, 2021</td>\n",
              "      <td>46.20</td>\n",
              "      <td>46.36</td>\n",
              "      <td>45.42</td>\n",
              "      <td>45.80</td>\n",
              "      <td>45.80</td>\n",
              "      <td>3053100.0</td>\n",
              "      <td>0</td>\n",
              "    </tr>\n",
              "    <tr>\n",
              "      <th>6</th>\n",
              "      <td>Sep 16, 2021</td>\n",
              "      <td>46.47</td>\n",
              "      <td>46.75</td>\n",
              "      <td>46.21</td>\n",
              "      <td>46.38</td>\n",
              "      <td>46.38</td>\n",
              "      <td>1360600.0</td>\n",
              "      <td>0</td>\n",
              "    </tr>\n",
              "    <tr>\n",
              "      <th>7</th>\n",
              "      <td>Sep 15, 2021</td>\n",
              "      <td>46.52</td>\n",
              "      <td>46.73</td>\n",
              "      <td>45.95</td>\n",
              "      <td>46.57</td>\n",
              "      <td>46.57</td>\n",
              "      <td>1391500.0</td>\n",
              "      <td>0</td>\n",
              "    </tr>\n",
              "    <tr>\n",
              "      <th>8</th>\n",
              "      <td>Sep 14, 2021</td>\n",
              "      <td>46.85</td>\n",
              "      <td>46.90</td>\n",
              "      <td>46.17</td>\n",
              "      <td>46.58</td>\n",
              "      <td>46.58</td>\n",
              "      <td>1485800.0</td>\n",
              "      <td>0</td>\n",
              "    </tr>\n",
              "    <tr>\n",
              "      <th>9</th>\n",
              "      <td>Sep 13, 2021</td>\n",
              "      <td>45.98</td>\n",
              "      <td>47.59</td>\n",
              "      <td>45.83</td>\n",
              "      <td>46.94</td>\n",
              "      <td>46.94</td>\n",
              "      <td>1531300.0</td>\n",
              "      <td>0</td>\n",
              "    </tr>\n",
              "    <tr>\n",
              "      <th>10</th>\n",
              "      <td>Sep 10, 2021</td>\n",
              "      <td>46.56</td>\n",
              "      <td>46.80</td>\n",
              "      <td>45.54</td>\n",
              "      <td>45.57</td>\n",
              "      <td>45.57</td>\n",
              "      <td>1530900.0</td>\n",
              "      <td>0</td>\n",
              "    </tr>\n",
              "    <tr>\n",
              "      <th>11</th>\n",
              "      <td>Sep 09, 2021</td>\n",
              "      <td>45.64</td>\n",
              "      <td>46.22</td>\n",
              "      <td>45.02</td>\n",
              "      <td>46.05</td>\n",
              "      <td>46.05</td>\n",
              "      <td>2282900.0</td>\n",
              "      <td>0</td>\n",
              "    </tr>\n",
              "    <tr>\n",
              "      <th>12</th>\n",
              "      <td>Sep 08, 2021</td>\n",
              "      <td>45.84</td>\n",
              "      <td>46.48</td>\n",
              "      <td>45.42</td>\n",
              "      <td>46.28</td>\n",
              "      <td>46.28</td>\n",
              "      <td>1348000.0</td>\n",
              "      <td>0</td>\n",
              "    </tr>\n",
              "    <tr>\n",
              "      <th>13</th>\n",
              "      <td>Sep 07, 2021</td>\n",
              "      <td>46.76</td>\n",
              "      <td>46.85</td>\n",
              "      <td>45.77</td>\n",
              "      <td>45.82</td>\n",
              "      <td>45.82</td>\n",
              "      <td>1730700.0</td>\n",
              "      <td>0</td>\n",
              "    </tr>\n",
              "    <tr>\n",
              "      <th>14</th>\n",
              "      <td>Sep 03, 2021</td>\n",
              "      <td>47.13</td>\n",
              "      <td>47.23</td>\n",
              "      <td>46.68</td>\n",
              "      <td>46.98</td>\n",
              "      <td>46.98</td>\n",
              "      <td>842600.0</td>\n",
              "      <td>0</td>\n",
              "    </tr>\n",
              "    <tr>\n",
              "      <th>15</th>\n",
              "      <td>Sep 02, 2021</td>\n",
              "      <td>47.34</td>\n",
              "      <td>47.66</td>\n",
              "      <td>46.82</td>\n",
              "      <td>47.09</td>\n",
              "      <td>47.09</td>\n",
              "      <td>781500.0</td>\n",
              "      <td>0</td>\n",
              "    </tr>\n",
              "    <tr>\n",
              "      <th>16</th>\n",
              "      <td>Sep 01, 2021</td>\n",
              "      <td>47.73</td>\n",
              "      <td>47.83</td>\n",
              "      <td>47.02</td>\n",
              "      <td>47.27</td>\n",
              "      <td>47.27</td>\n",
              "      <td>981700.0</td>\n",
              "      <td>0</td>\n",
              "    </tr>\n",
              "    <tr>\n",
              "      <th>17</th>\n",
              "      <td>Aug 31, 2021</td>\n",
              "      <td>46.76</td>\n",
              "      <td>47.81</td>\n",
              "      <td>46.55</td>\n",
              "      <td>47.53</td>\n",
              "      <td>47.53</td>\n",
              "      <td>2218400.0</td>\n",
              "      <td>0</td>\n",
              "    </tr>\n",
              "    <tr>\n",
              "      <th>18</th>\n",
              "      <td>Aug 30, 2021</td>\n",
              "      <td>47.50</td>\n",
              "      <td>47.69</td>\n",
              "      <td>46.70</td>\n",
              "      <td>46.74</td>\n",
              "      <td>46.74</td>\n",
              "      <td>1230100.0</td>\n",
              "      <td>0</td>\n",
              "    </tr>\n",
              "    <tr>\n",
              "      <th>19</th>\n",
              "      <td>Aug 27, 2021</td>\n",
              "      <td>46.98</td>\n",
              "      <td>47.81</td>\n",
              "      <td>46.77</td>\n",
              "      <td>47.51</td>\n",
              "      <td>47.51</td>\n",
              "      <td>940800.0</td>\n",
              "      <td>0</td>\n",
              "    </tr>\n",
              "    <tr>\n",
              "      <th>20</th>\n",
              "      <td>Aug 26, 2021</td>\n",
              "      <td>47.56</td>\n",
              "      <td>47.81</td>\n",
              "      <td>46.86</td>\n",
              "      <td>47.17</td>\n",
              "      <td>46.83</td>\n",
              "      <td>1757500.0</td>\n",
              "      <td>0</td>\n",
              "    </tr>\n",
              "    <tr>\n",
              "      <th>21</th>\n",
              "      <td>Aug 25, 2021</td>\n",
              "      <td>48.37</td>\n",
              "      <td>48.37</td>\n",
              "      <td>47.73</td>\n",
              "      <td>47.91</td>\n",
              "      <td>47.56</td>\n",
              "      <td>1078400.0</td>\n",
              "      <td>0</td>\n",
              "    </tr>\n",
              "    <tr>\n",
              "      <th>22</th>\n",
              "      <td>Aug 24, 2021</td>\n",
              "      <td>48.18</td>\n",
              "      <td>48.65</td>\n",
              "      <td>48.04</td>\n",
              "      <td>48.45</td>\n",
              "      <td>48.10</td>\n",
              "      <td>1019000.0</td>\n",
              "      <td>4</td>\n",
              "    </tr>\n",
              "    <tr>\n",
              "      <th>23</th>\n",
              "      <td>Aug 23, 2021</td>\n",
              "      <td>48.00</td>\n",
              "      <td>48.59</td>\n",
              "      <td>47.63</td>\n",
              "      <td>48.03</td>\n",
              "      <td>47.68</td>\n",
              "      <td>1252500.0</td>\n",
              "      <td>0</td>\n",
              "    </tr>\n",
              "    <tr>\n",
              "      <th>24</th>\n",
              "      <td>Aug 20, 2021</td>\n",
              "      <td>47.91</td>\n",
              "      <td>48.13</td>\n",
              "      <td>47.61</td>\n",
              "      <td>47.79</td>\n",
              "      <td>47.45</td>\n",
              "      <td>1531600.0</td>\n",
              "      <td>0</td>\n",
              "    </tr>\n",
              "    <tr>\n",
              "      <th>25</th>\n",
              "      <td>Aug 19, 2021</td>\n",
              "      <td>48.84</td>\n",
              "      <td>49.08</td>\n",
              "      <td>47.87</td>\n",
              "      <td>48.05</td>\n",
              "      <td>47.70</td>\n",
              "      <td>1309700.0</td>\n",
              "      <td>4</td>\n",
              "    </tr>\n",
              "    <tr>\n",
              "      <th>26</th>\n",
              "      <td>Aug 18, 2021</td>\n",
              "      <td>49.69</td>\n",
              "      <td>49.81</td>\n",
              "      <td>48.85</td>\n",
              "      <td>48.88</td>\n",
              "      <td>48.53</td>\n",
              "      <td>1097700.0</td>\n",
              "      <td>4</td>\n",
              "    </tr>\n",
              "    <tr>\n",
              "      <th>27</th>\n",
              "      <td>Aug 17, 2021</td>\n",
              "      <td>50.07</td>\n",
              "      <td>50.55</td>\n",
              "      <td>49.39</td>\n",
              "      <td>49.66</td>\n",
              "      <td>49.30</td>\n",
              "      <td>1065300.0</td>\n",
              "      <td>4</td>\n",
              "    </tr>\n",
              "    <tr>\n",
              "      <th>28</th>\n",
              "      <td>Aug 16, 2021</td>\n",
              "      <td>50.56</td>\n",
              "      <td>51.02</td>\n",
              "      <td>49.87</td>\n",
              "      <td>50.38</td>\n",
              "      <td>50.02</td>\n",
              "      <td>945500.0</td>\n",
              "      <td>4</td>\n",
              "    </tr>\n",
              "    <tr>\n",
              "      <th>29</th>\n",
              "      <td>Aug 13, 2021</td>\n",
              "      <td>50.55</td>\n",
              "      <td>51.19</td>\n",
              "      <td>50.34</td>\n",
              "      <td>50.54</td>\n",
              "      <td>50.18</td>\n",
              "      <td>1110500.0</td>\n",
              "      <td>4</td>\n",
              "    </tr>\n",
              "    <tr>\n",
              "      <th>30</th>\n",
              "      <td>Aug 12, 2021</td>\n",
              "      <td>52.16</td>\n",
              "      <td>52.16</td>\n",
              "      <td>50.35</td>\n",
              "      <td>50.37</td>\n",
              "      <td>50.01</td>\n",
              "      <td>1300100.0</td>\n",
              "      <td>4</td>\n",
              "    </tr>\n",
              "    <tr>\n",
              "      <th>31</th>\n",
              "      <td>Aug 11, 2021</td>\n",
              "      <td>51.43</td>\n",
              "      <td>52.15</td>\n",
              "      <td>51.15</td>\n",
              "      <td>52.05</td>\n",
              "      <td>51.67</td>\n",
              "      <td>2334800.0</td>\n",
              "      <td>4</td>\n",
              "    </tr>\n",
              "    <tr>\n",
              "      <th>32</th>\n",
              "      <td>Aug 10, 2021</td>\n",
              "      <td>49.42</td>\n",
              "      <td>51.36</td>\n",
              "      <td>49.41</td>\n",
              "      <td>51.20</td>\n",
              "      <td>50.83</td>\n",
              "      <td>2366000.0</td>\n",
              "      <td>4</td>\n",
              "    </tr>\n",
              "    <tr>\n",
              "      <th>33</th>\n",
              "      <td>Aug 09, 2021</td>\n",
              "      <td>49.00</td>\n",
              "      <td>49.65</td>\n",
              "      <td>48.89</td>\n",
              "      <td>49.34</td>\n",
              "      <td>48.98</td>\n",
              "      <td>1045700.0</td>\n",
              "      <td>4</td>\n",
              "    </tr>\n",
              "    <tr>\n",
              "      <th>34</th>\n",
              "      <td>Aug 06, 2021</td>\n",
              "      <td>48.65</td>\n",
              "      <td>49.58</td>\n",
              "      <td>48.45</td>\n",
              "      <td>49.10</td>\n",
              "      <td>48.75</td>\n",
              "      <td>1351800.0</td>\n",
              "      <td>4</td>\n",
              "    </tr>\n",
              "    <tr>\n",
              "      <th>35</th>\n",
              "      <td>Aug 05, 2021</td>\n",
              "      <td>48.29</td>\n",
              "      <td>48.60</td>\n",
              "      <td>48.13</td>\n",
              "      <td>48.30</td>\n",
              "      <td>47.95</td>\n",
              "      <td>1220100.0</td>\n",
              "      <td>4</td>\n",
              "    </tr>\n",
              "    <tr>\n",
              "      <th>36</th>\n",
              "      <td>Aug 04, 2021</td>\n",
              "      <td>48.74</td>\n",
              "      <td>49.20</td>\n",
              "      <td>48.00</td>\n",
              "      <td>48.02</td>\n",
              "      <td>47.67</td>\n",
              "      <td>1531100.0</td>\n",
              "      <td>4</td>\n",
              "    </tr>\n",
              "    <tr>\n",
              "      <th>37</th>\n",
              "      <td>Aug 03, 2021</td>\n",
              "      <td>49.45</td>\n",
              "      <td>49.45</td>\n",
              "      <td>48.40</td>\n",
              "      <td>49.13</td>\n",
              "      <td>48.78</td>\n",
              "      <td>2020500.0</td>\n",
              "      <td>4</td>\n",
              "    </tr>\n",
              "    <tr>\n",
              "      <th>38</th>\n",
              "      <td>Aug 02, 2021</td>\n",
              "      <td>48.89</td>\n",
              "      <td>50.57</td>\n",
              "      <td>48.89</td>\n",
              "      <td>49.25</td>\n",
              "      <td>48.90</td>\n",
              "      <td>1934500.0</td>\n",
              "      <td>4</td>\n",
              "    </tr>\n",
              "    <tr>\n",
              "      <th>39</th>\n",
              "      <td>Jul 30, 2021</td>\n",
              "      <td>49.70</td>\n",
              "      <td>50.15</td>\n",
              "      <td>48.80</td>\n",
              "      <td>48.89</td>\n",
              "      <td>48.54</td>\n",
              "      <td>1704500.0</td>\n",
              "      <td>4</td>\n",
              "    </tr>\n",
              "  </tbody>\n",
              "</table>\n",
              "</div>"
            ],
            "text/plain": [
              "            Date   open   high    low  close  adjClose     volume  label\n",
              "0   Sep 24, 2021  46.40  46.74  46.24  46.51     46.51  1073500.0      0\n",
              "1   Sep 23, 2021  45.79  46.57  45.76  46.36     46.36  1509000.0      0\n",
              "2   Sep 22, 2021  45.21  46.07  44.99  45.63     45.63  1668200.0      0\n",
              "3   Sep 21, 2021  45.28  45.77  44.62  44.80     44.80  1586500.0      0\n",
              "4   Sep 20, 2021  45.04  45.40  44.49  45.10     45.10  1821100.0      0\n",
              "5   Sep 17, 2021  46.20  46.36  45.42  45.80     45.80  3053100.0      0\n",
              "6   Sep 16, 2021  46.47  46.75  46.21  46.38     46.38  1360600.0      0\n",
              "7   Sep 15, 2021  46.52  46.73  45.95  46.57     46.57  1391500.0      0\n",
              "8   Sep 14, 2021  46.85  46.90  46.17  46.58     46.58  1485800.0      0\n",
              "9   Sep 13, 2021  45.98  47.59  45.83  46.94     46.94  1531300.0      0\n",
              "10  Sep 10, 2021  46.56  46.80  45.54  45.57     45.57  1530900.0      0\n",
              "11  Sep 09, 2021  45.64  46.22  45.02  46.05     46.05  2282900.0      0\n",
              "12  Sep 08, 2021  45.84  46.48  45.42  46.28     46.28  1348000.0      0\n",
              "13  Sep 07, 2021  46.76  46.85  45.77  45.82     45.82  1730700.0      0\n",
              "14  Sep 03, 2021  47.13  47.23  46.68  46.98     46.98   842600.0      0\n",
              "15  Sep 02, 2021  47.34  47.66  46.82  47.09     47.09   781500.0      0\n",
              "16  Sep 01, 2021  47.73  47.83  47.02  47.27     47.27   981700.0      0\n",
              "17  Aug 31, 2021  46.76  47.81  46.55  47.53     47.53  2218400.0      0\n",
              "18  Aug 30, 2021  47.50  47.69  46.70  46.74     46.74  1230100.0      0\n",
              "19  Aug 27, 2021  46.98  47.81  46.77  47.51     47.51   940800.0      0\n",
              "20  Aug 26, 2021  47.56  47.81  46.86  47.17     46.83  1757500.0      0\n",
              "21  Aug 25, 2021  48.37  48.37  47.73  47.91     47.56  1078400.0      0\n",
              "22  Aug 24, 2021  48.18  48.65  48.04  48.45     48.10  1019000.0      4\n",
              "23  Aug 23, 2021  48.00  48.59  47.63  48.03     47.68  1252500.0      0\n",
              "24  Aug 20, 2021  47.91  48.13  47.61  47.79     47.45  1531600.0      0\n",
              "25  Aug 19, 2021  48.84  49.08  47.87  48.05     47.70  1309700.0      4\n",
              "26  Aug 18, 2021  49.69  49.81  48.85  48.88     48.53  1097700.0      4\n",
              "27  Aug 17, 2021  50.07  50.55  49.39  49.66     49.30  1065300.0      4\n",
              "28  Aug 16, 2021  50.56  51.02  49.87  50.38     50.02   945500.0      4\n",
              "29  Aug 13, 2021  50.55  51.19  50.34  50.54     50.18  1110500.0      4\n",
              "30  Aug 12, 2021  52.16  52.16  50.35  50.37     50.01  1300100.0      4\n",
              "31  Aug 11, 2021  51.43  52.15  51.15  52.05     51.67  2334800.0      4\n",
              "32  Aug 10, 2021  49.42  51.36  49.41  51.20     50.83  2366000.0      4\n",
              "33  Aug 09, 2021  49.00  49.65  48.89  49.34     48.98  1045700.0      4\n",
              "34  Aug 06, 2021  48.65  49.58  48.45  49.10     48.75  1351800.0      4\n",
              "35  Aug 05, 2021  48.29  48.60  48.13  48.30     47.95  1220100.0      4\n",
              "36  Aug 04, 2021  48.74  49.20  48.00  48.02     47.67  1531100.0      4\n",
              "37  Aug 03, 2021  49.45  49.45  48.40  49.13     48.78  2020500.0      4\n",
              "38  Aug 02, 2021  48.89  50.57  48.89  49.25     48.90  1934500.0      4\n",
              "39  Jul 30, 2021  49.70  50.15  48.80  48.89     48.54  1704500.0      4"
            ]
          },
          "metadata": {},
          "execution_count": 261
        }
      ]
    },
    {
      "cell_type": "markdown",
      "metadata": {
        "id": "gi0XMCsVux8Z"
      },
      "source": [
        "###GRAFICO DE LOS CLÚSTERES KMEANS"
      ]
    },
    {
      "cell_type": "code",
      "metadata": {
        "colab": {
          "base_uri": "https://localhost:8080/",
          "height": 563
        },
        "id": "-OgXIR6nu31u",
        "outputId": "7756da7b-418d-41c9-b028-3084ffb0eb2a"
      },
      "source": [
        "#%% Plot k-means clustering.\n",
        "colores=['red','green','blue','yellow','fuchsia']\n",
        "asignar=[]\n",
        "for row in labels:\n",
        "     asignar.append(colores[row])\n",
        "plt.scatter(x, y, c=asignar, s=1)\n",
        "plt.scatter(centroids[:, 0], centroids[:, 1], marker='*', c='black', s=20) # Marco centroides.\n",
        "plt.xlabel('precio de cierre')\n",
        "plt.ylabel('volumen')\n",
        "plt.title('Molson Coors Beverage Company k-means clustering')\n",
        "plt.show()\n",
        "\n"
      ],
      "execution_count": 262,
      "outputs": [
        {
          "output_type": "display_data",
          "data": {
            "image/png": "[encoded data removed]",
            "text/plain": [
              "<Figure size 1152x648 with 1 Axes>"
            ]
          },
          "metadata": {}
        }
      ]
    },
    {
      "cell_type": "markdown",
      "metadata": {
        "id": "T4YRMfFyvGG_"
      },
      "source": [
        "###CLASIFICACIÓN DE NUEVAS MUESTRAS"
      ]
    },
    {
      "cell_type": "code",
      "metadata": {
        "id": "XYsgxQnyvKKA"
      },
      "source": [
        "close = 100000\n",
        "volume = 5500000\n",
        "\n",
        "nuevo_dato = pd.DataFrame([[close,volume]]) # Nueva muestra\n",
        "nuevo_dato = nuevo_dato.rename(columns = {0: 'close', 1: 'volume'})"
      ],
      "execution_count": 263,
      "outputs": []
    },
    {
      "cell_type": "code",
      "metadata": {
        "id": "nnzxq9cKvS_4"
      },
      "source": [
        "df_n = df_accion.append(nuevo_dato)"
      ],
      "execution_count": 264,
      "outputs": []
    },
    {
      "cell_type": "code",
      "metadata": {
        "colab": {
          "base_uri": "https://localhost:8080/",
          "height": 424
        },
        "id": "WNEe4VtzvcDD",
        "outputId": "406d9fb6-f353-413d-c1be-8daf5ccf4ce6"
      },
      "source": [
        "df_n"
      ],
      "execution_count": 266,
      "outputs": [
        {
          "output_type": "execute_result",
          "data": {
            "text/html": [
              "<div>\n",
              "<style scoped>\n",
              "    .dataframe tbody tr th:only-of-type {\n",
              "        vertical-align: middle;\n",
              "    }\n",
              "\n",
              "    .dataframe tbody tr th {\n",
              "        vertical-align: top;\n",
              "    }\n",
              "\n",
              "    .dataframe thead th {\n",
              "        text-align: right;\n",
              "    }\n",
              "</style>\n",
              "<table border=\"1\" class=\"dataframe\">\n",
              "  <thead>\n",
              "    <tr style=\"text-align: right;\">\n",
              "      <th></th>\n",
              "      <th>Date</th>\n",
              "      <th>open</th>\n",
              "      <th>high</th>\n",
              "      <th>low</th>\n",
              "      <th>close</th>\n",
              "      <th>adjClose</th>\n",
              "      <th>volume</th>\n",
              "      <th>label</th>\n",
              "    </tr>\n",
              "  </thead>\n",
              "  <tbody>\n",
              "    <tr>\n",
              "      <th>0</th>\n",
              "      <td>Sep 24, 2021</td>\n",
              "      <td>46.40</td>\n",
              "      <td>46.74</td>\n",
              "      <td>46.24</td>\n",
              "      <td>46.51</td>\n",
              "      <td>46.51</td>\n",
              "      <td>1073500.0</td>\n",
              "      <td>0.0</td>\n",
              "    </tr>\n",
              "    <tr>\n",
              "      <th>1</th>\n",
              "      <td>Sep 23, 2021</td>\n",
              "      <td>45.79</td>\n",
              "      <td>46.57</td>\n",
              "      <td>45.76</td>\n",
              "      <td>46.36</td>\n",
              "      <td>46.36</td>\n",
              "      <td>1509000.0</td>\n",
              "      <td>0.0</td>\n",
              "    </tr>\n",
              "    <tr>\n",
              "      <th>2</th>\n",
              "      <td>Sep 22, 2021</td>\n",
              "      <td>45.21</td>\n",
              "      <td>46.07</td>\n",
              "      <td>44.99</td>\n",
              "      <td>45.63</td>\n",
              "      <td>45.63</td>\n",
              "      <td>1668200.0</td>\n",
              "      <td>0.0</td>\n",
              "    </tr>\n",
              "    <tr>\n",
              "      <th>3</th>\n",
              "      <td>Sep 21, 2021</td>\n",
              "      <td>45.28</td>\n",
              "      <td>45.77</td>\n",
              "      <td>44.62</td>\n",
              "      <td>44.80</td>\n",
              "      <td>44.80</td>\n",
              "      <td>1586500.0</td>\n",
              "      <td>0.0</td>\n",
              "    </tr>\n",
              "    <tr>\n",
              "      <th>4</th>\n",
              "      <td>Sep 20, 2021</td>\n",
              "      <td>45.04</td>\n",
              "      <td>45.40</td>\n",
              "      <td>44.49</td>\n",
              "      <td>45.10</td>\n",
              "      <td>45.10</td>\n",
              "      <td>1821100.0</td>\n",
              "      <td>0.0</td>\n",
              "    </tr>\n",
              "    <tr>\n",
              "      <th>...</th>\n",
              "      <td>...</td>\n",
              "      <td>...</td>\n",
              "      <td>...</td>\n",
              "      <td>...</td>\n",
              "      <td>...</td>\n",
              "      <td>...</td>\n",
              "      <td>...</td>\n",
              "      <td>...</td>\n",
              "    </tr>\n",
              "    <tr>\n",
              "      <th>5032</th>\n",
              "      <td>Sep 28, 2001</td>\n",
              "      <td>22.30</td>\n",
              "      <td>22.62</td>\n",
              "      <td>22.30</td>\n",
              "      <td>22.50</td>\n",
              "      <td>15.03</td>\n",
              "      <td>548000.0</td>\n",
              "      <td>3.0</td>\n",
              "    </tr>\n",
              "    <tr>\n",
              "      <th>5033</th>\n",
              "      <td>Sep 27, 2001</td>\n",
              "      <td>22.19</td>\n",
              "      <td>22.53</td>\n",
              "      <td>21.94</td>\n",
              "      <td>22.25</td>\n",
              "      <td>14.86</td>\n",
              "      <td>788400.0</td>\n",
              "      <td>3.0</td>\n",
              "    </tr>\n",
              "    <tr>\n",
              "      <th>5034</th>\n",
              "      <td>Sep 26, 2001</td>\n",
              "      <td>22.35</td>\n",
              "      <td>22.71</td>\n",
              "      <td>22.21</td>\n",
              "      <td>22.32</td>\n",
              "      <td>14.91</td>\n",
              "      <td>461400.0</td>\n",
              "      <td>3.0</td>\n",
              "    </tr>\n",
              "    <tr>\n",
              "      <th>5035</th>\n",
              "      <td>Sep 25, 2001</td>\n",
              "      <td>21.92</td>\n",
              "      <td>22.50</td>\n",
              "      <td>21.83</td>\n",
              "      <td>22.34</td>\n",
              "      <td>14.93</td>\n",
              "      <td>586800.0</td>\n",
              "      <td>3.0</td>\n",
              "    </tr>\n",
              "    <tr>\n",
              "      <th>0</th>\n",
              "      <td>NaN</td>\n",
              "      <td>NaN</td>\n",
              "      <td>NaN</td>\n",
              "      <td>NaN</td>\n",
              "      <td>100000.00</td>\n",
              "      <td>NaN</td>\n",
              "      <td>5500000.0</td>\n",
              "      <td>NaN</td>\n",
              "    </tr>\n",
              "  </tbody>\n",
              "</table>\n",
              "<p>5037 rows × 8 columns</p>\n",
              "</div>"
            ],
            "text/plain": [
              "              Date   open   high    low      close  adjClose     volume  label\n",
              "0     Sep 24, 2021  46.40  46.74  46.24      46.51     46.51  1073500.0    0.0\n",
              "1     Sep 23, 2021  45.79  46.57  45.76      46.36     46.36  1509000.0    0.0\n",
              "2     Sep 22, 2021  45.21  46.07  44.99      45.63     45.63  1668200.0    0.0\n",
              "3     Sep 21, 2021  45.28  45.77  44.62      44.80     44.80  1586500.0    0.0\n",
              "4     Sep 20, 2021  45.04  45.40  44.49      45.10     45.10  1821100.0    0.0\n",
              "...            ...    ...    ...    ...        ...       ...        ...    ...\n",
              "5032  Sep 28, 2001  22.30  22.62  22.30      22.50     15.03   548000.0    3.0\n",
              "5033  Sep 27, 2001  22.19  22.53  21.94      22.25     14.86   788400.0    3.0\n",
              "5034  Sep 26, 2001  22.35  22.71  22.21      22.32     14.91   461400.0    3.0\n",
              "5035  Sep 25, 2001  21.92  22.50  21.83      22.34     14.93   586800.0    3.0\n",
              "0              NaN    NaN    NaN    NaN  100000.00       NaN  5500000.0    NaN\n",
              "\n",
              "[5037 rows x 8 columns]"
            ]
          },
          "metadata": {},
          "execution_count": 266
        }
      ]
    },
    {
      "cell_type": "code",
      "metadata": {
        "id": "FtpgxDTpvWrq"
      },
      "source": [
        "df_n = df_n.drop('Date', 1)\n",
        "df_n = df_n.drop('label', 1)\n",
        "df_n = df_n.reset_index(drop=True)"
      ],
      "execution_count": 267,
      "outputs": []
    },
    {
      "cell_type": "code",
      "metadata": {
        "id": "SYYk7i8HvhQf"
      },
      "source": [
        "min_max_scaler = preprocessing.MinMaxScaler() \n",
        "df_escalado = min_max_scaler.fit_transform(df_n)\n",
        "df_escalado = pd.DataFrame(df_escalado) # Hay que convertir a DF el resultado.\n",
        "df_escalado = df_escalado.rename(columns = {0: 'Close', 1: 'Volume'})"
      ],
      "execution_count": 268,
      "outputs": []
    },
    {
      "cell_type": "code",
      "metadata": {
        "colab": {
          "base_uri": "https://localhost:8080/",
          "height": 143
        },
        "id": "35uzgCVgvoC8",
        "outputId": "71b79377-ff46-4484-d07c-aef7c13da38e"
      },
      "source": [
        "df_escalado.iloc[-3:]"
      ],
      "execution_count": 269,
      "outputs": [
        {
          "output_type": "execute_result",
          "data": {
            "text/html": [
              "<div>\n",
              "<style scoped>\n",
              "    .dataframe tbody tr th:only-of-type {\n",
              "        vertical-align: middle;\n",
              "    }\n",
              "\n",
              "    .dataframe tbody tr th {\n",
              "        vertical-align: top;\n",
              "    }\n",
              "\n",
              "    .dataframe thead th {\n",
              "        text-align: right;\n",
              "    }\n",
              "</style>\n",
              "<table border=\"1\" class=\"dataframe\">\n",
              "  <thead>\n",
              "    <tr style=\"text-align: right;\">\n",
              "      <th></th>\n",
              "      <th>Close</th>\n",
              "      <th>Volume</th>\n",
              "      <th>2</th>\n",
              "      <th>3</th>\n",
              "      <th>4</th>\n",
              "      <th>5</th>\n",
              "    </tr>\n",
              "  </thead>\n",
              "  <tbody>\n",
              "    <tr>\n",
              "      <th>5034</th>\n",
              "      <td>0.005022</td>\n",
              "      <td>0.006440</td>\n",
              "      <td>0.008706</td>\n",
              "      <td>0.000004</td>\n",
              "      <td>0.003146</td>\n",
              "      <td>0.018642</td>\n",
              "    </tr>\n",
              "    <tr>\n",
              "      <th>5035</th>\n",
              "      <td>0.000223</td>\n",
              "      <td>0.004108</td>\n",
              "      <td>0.004465</td>\n",
              "      <td>0.000004</td>\n",
              "      <td>0.003380</td>\n",
              "      <td>0.024654</td>\n",
              "    </tr>\n",
              "    <tr>\n",
              "      <th>5036</th>\n",
              "      <td>NaN</td>\n",
              "      <td>NaN</td>\n",
              "      <td>NaN</td>\n",
              "      <td>1.000000</td>\n",
              "      <td>NaN</td>\n",
              "      <td>0.260228</td>\n",
              "    </tr>\n",
              "  </tbody>\n",
              "</table>\n",
              "</div>"
            ],
            "text/plain": [
              "         Close    Volume         2         3         4         5\n",
              "5034  0.005022  0.006440  0.008706  0.000004  0.003146  0.018642\n",
              "5035  0.000223  0.004108  0.004465  0.000004  0.003380  0.024654\n",
              "5036       NaN       NaN       NaN  1.000000       NaN  0.260228"
            ]
          },
          "metadata": {},
          "execution_count": 269
        }
      ]
    },
    {
      "cell_type": "code",
      "metadata": {
        "id": "eSMND6bxvr_W"
      },
      "source": [
        "close_n = df_escalado['Close'][2784]\n",
        "volume_n = df_escalado['Volume'][2784]\n",
        "import numpy as np\n",
        "X_new = np.array([[close_n, volume_n]]) # Nueva muestra"
      ],
      "execution_count": 270,
      "outputs": []
    }
  ]
}